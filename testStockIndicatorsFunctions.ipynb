{
 "cells": [
  {
   "cell_type": "code",
   "execution_count": 1,
   "id": "2984e2bf-3800-45cb-981d-4066e621073b",
   "metadata": {},
   "outputs": [],
   "source": [
    "import numpy as np\n",
    "import pandas as pd\n",
    "\n",
    "from technicalIndicators.main import generate_all_technical_indicators \n",
    "\n",
    "from warnings import simplefilter\n",
    "simplefilter('ignore')\n",
    "\n",
    "pd.set_option('display.max_columns', 100)\n",
    "pd.set_option('display.max_rows', 50)"
   ]
  },
  {
   "cell_type": "code",
   "execution_count": 2,
   "id": "98a9ea6f-7435-4ece-b647-0ca377bbdd79",
   "metadata": {},
   "outputs": [
    {
     "name": "stderr",
     "output_type": "stream",
     "text": [
      "2025-08-24 15:52:36 - INFO - Processing the data into a format that is compatible for generating the stock indicators\n",
      "2025-08-24 15:52:37 - INFO - Generating stock indicators of price trends\n",
      "2025-08-24 15:52:39 - INFO - Generating stock indicators of price channels\n",
      "2025-08-24 15:52:44 - INFO - Generating stock indicators of oscillators\n",
      "2025-08-24 15:52:44 - INFO - Generating stock indicators of volume based\n",
      "2025-08-24 15:52:44 - INFO - Generating stock indicators of price transformations\n",
      "2025-08-24 15:52:44 - INFO - Successfullu generated all stock indicators\n",
      "2025-08-24 15:52:44 - INFO - Acquired 49 features for the stock data\n",
      "2025-08-24 15:52:44 - INFO - Saving all newly generated features into modelDevelopment/technical_indicator_features.txt\n"
     ]
    }
   ],
   "source": [
    "data = pd.read_csv('dataPreparation/dummy_data.csv')\n",
    "prepared_data = generate_all_technical_indicators(data)"
   ]
  },
  {
   "cell_type": "code",
   "execution_count": 3,
   "id": "319a4322-c0e4-480c-baa5-67d0eefc96df",
   "metadata": {},
   "outputs": [],
   "source": [
    "feature_columns = ['Close'] + prepared_data.columns[6:].tolist()\n",
    "feature_data = prepared_data[feature_columns]"
   ]
  },
  {
   "cell_type": "code",
   "execution_count": 4,
   "id": "1721c965-0cf9-4b11-9f4a-1f80a031b004",
   "metadata": {},
   "outputs": [
    {
     "name": "stdout",
     "output_type": "stream",
     "text": [
      "<class 'pandas.core.frame.DataFrame'>\n",
      "DatetimeIndex: 1143 entries, 2020-01-02 to 2024-09-20\n",
      "Data columns (total 50 columns):\n",
      " #   Column                                         Non-Null Count  Dtype  \n",
      "---  ------                                         --------------  -----  \n",
      " 0   Close                                          1143 non-null   float64\n",
      " 1   ATR Bullish                                    1122 non-null   float64\n",
      " 2   ATR Bearish                                    1122 non-null   float64\n",
      " 3   Aroon Change Position                          1117 non-null   float64\n",
      " 4   Aroon Up Trend                                 1118 non-null   float64\n",
      " 5   Aroon Down Trend                               1118 non-null   float64\n",
      " 6   Weak Plus Directional Index                    1129 non-null   float64\n",
      " 7   Strong Plus Directional Index                  1129 non-null   float64\n",
      " 8   Weak Minus Directional Index                   1129 non-null   float64\n",
      " 9   Strong Minus Directional Index                 1129 non-null   float64\n",
      " 10  Bull Power Up Trend                            1131 non-null   float64\n",
      " 11  Bull Power 80% Positives                       1121 non-null   float64\n",
      " 12  Bear Power Trend                               1131 non-null   float64\n",
      " 13  Bear Power 80% Negatives                       1121 non-null   float64\n",
      " 14  MACD Near 0                                    1110 non-null   float64\n",
      " 15  MACD Non-Near 0 Negative                       1110 non-null   float64\n",
      " 16  MACD Non-Near 0 Positive                       1110 non-null   float64\n",
      " 17  Keltner Overbought                             1124 non-null   float64\n",
      " 18  Keltner Oversold                               1124 non-null   float64\n",
      " 19  Width Keltner Increasing                       1124 non-null   float64\n",
      " 20  Width Keltner Decreasing                       1124 non-null   float64\n",
      " 21  Donchian Overbought                            1123 non-null   float64\n",
      " 22  Donchian Oversold                              1123 non-null   float64\n",
      " 23  Width Donchian Increasing                      1123 non-null   float64\n",
      " 24  Width Donchian Decreasing                      1123 non-null   float64\n",
      " 25  Bollinger Overbought                           1124 non-null   float64\n",
      " 26  Bollinger Oversold                             1124 non-null   float64\n",
      " 27  Width Bollinger Increasing                     1124 non-null   float64\n",
      " 28  Width Bollinger Decreasing                     1124 non-null   float64\n",
      " 29  Relative Strength Index                        1129 non-null   float64\n",
      " 30  Stochastic Oscilator                           1128 non-null   float64\n",
      " 31  Signal Stochastic Oscilator                    1126 non-null   float64\n",
      " 32  Percent Stochastic Oscilator                   1126 non-null   float64\n",
      " 33  On Balance Volume                              1143 non-null   float64\n",
      " 34  On Balance Volume Moving Average               1133 non-null   float64\n",
      " 35  Money Flow Index                               1129 non-null   float64\n",
      " 36  Money Flow Multiplier CMF                      1143 non-null   float64\n",
      " 37  Money Flow Volume CMF                          1143 non-null   float64\n",
      " 38  Chaikin Money Flow                             1124 non-null   float64\n",
      " 39  Money Flow Multiplier ADL                      1143 non-null   float64\n",
      " 40  Money Flow Volume ADL                          1143 non-null   float64\n",
      " 41  Accumulation Distribution Line                 1143 non-null   float64\n",
      " 42  Accumulation Distribution Line Moving Average  1134 non-null   float64\n",
      " 43  Fisher Transform                               1143 non-null   float64\n",
      " 44  Fisher Transform Trigger                       1142 non-null   float64\n",
      " 45  Zig Zag                                        1121 non-null   object \n",
      " 46  Retrace High                                   1114 non-null   object \n",
      " 47  Retrace Low                                    1043 non-null   object \n",
      " 48  Zig Zag High                                   1143 non-null   int64  \n",
      " 49  Zig Zag Low                                    1143 non-null   int64  \n",
      "dtypes: float64(45), int64(2), object(3)\n",
      "memory usage: 455.4+ KB\n"
     ]
    }
   ],
   "source": [
    "feature_data.info()"
   ]
  },
  {
   "cell_type": "code",
   "execution_count": null,
   "id": "c9b1ff6f-b2b1-4ace-9ced-00cf5e0bcb98",
   "metadata": {},
   "outputs": [],
   "source": [
    "feature_data['Width'].info()"
   ]
  },
  {
   "cell_type": "code",
   "execution_count": null,
   "id": "ecd36af6-a234-4077-b9bd-f79409d05b8a",
   "metadata": {},
   "outputs": [],
   "source": [
    "feature_data.head(3)"
   ]
  },
  {
   "cell_type": "code",
   "execution_count": null,
   "id": "32c71a22-34f1-4d46-a326-fc46719493b7",
   "metadata": {},
   "outputs": [],
   "source": [
    "feature_data.tail(20).head(3)"
   ]
  },
  {
   "cell_type": "code",
   "execution_count": null,
   "id": "a934b883-c904-478d-91fb-8e73ad2a5b4c",
   "metadata": {},
   "outputs": [],
   "source": []
  },
  {
   "cell_type": "code",
   "execution_count": null,
   "id": "98904d4c-9ede-4830-b87b-ad1ae70a87b2",
   "metadata": {},
   "outputs": [],
   "source": []
  },
  {
   "cell_type": "code",
   "execution_count": null,
   "id": "5dd07542-d0a4-4ee8-bfeb-b1b9c9a0b508",
   "metadata": {},
   "outputs": [],
   "source": []
  },
  {
   "cell_type": "code",
   "execution_count": null,
   "id": "13d924cd-9be2-4fde-8a2d-d1f5dbade5d7",
   "metadata": {},
   "outputs": [],
   "source": []
  },
  {
   "cell_type": "code",
   "execution_count": null,
   "id": "90e38a60-af44-4bae-aa12-e3c03006709c",
   "metadata": {},
   "outputs": [],
   "source": []
  },
  {
   "cell_type": "code",
   "execution_count": null,
   "id": "bd73933a-e775-4db8-9db1-a35356f55581",
   "metadata": {},
   "outputs": [],
   "source": []
  },
  {
   "cell_type": "code",
   "execution_count": null,
   "id": "c8923df4-528a-40bc-aecf-d98f6c680f41",
   "metadata": {},
   "outputs": [],
   "source": []
  },
  {
   "cell_type": "code",
   "execution_count": null,
   "id": "ede7bfbe-9cbf-4dd3-b4ea-3b654323f99a",
   "metadata": {},
   "outputs": [],
   "source": []
  },
  {
   "cell_type": "code",
   "execution_count": null,
   "id": "cbb7eea4-597d-40af-bb3c-c2ff84219e67",
   "metadata": {},
   "outputs": [],
   "source": []
  },
  {
   "cell_type": "code",
   "execution_count": null,
   "id": "974f340f-2ed6-4e88-ab2a-749f10f2a1be",
   "metadata": {},
   "outputs": [],
   "source": []
  },
  {
   "cell_type": "code",
   "execution_count": null,
   "id": "651c730d-52b3-46c2-a55c-a3a4ac71a88b",
   "metadata": {},
   "outputs": [],
   "source": []
  }
 ],
 "metadata": {
  "kernelspec": {
   "display_name": "Python 3 (ipykernel)",
   "language": "python",
   "name": "python3"
  },
  "language_info": {
   "codemirror_mode": {
    "name": "ipython",
    "version": 3
   },
   "file_extension": ".py",
   "mimetype": "text/x-python",
   "name": "python",
   "nbconvert_exporter": "python",
   "pygments_lexer": "ipython3",
   "version": "3.10.15"
  }
 },
 "nbformat": 4,
 "nbformat_minor": 5
}
