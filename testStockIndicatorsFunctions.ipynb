{
 "cells": [
  {
   "cell_type": "code",
   "execution_count": 1,
   "id": "2984e2bf-3800-45cb-981d-4066e621073b",
   "metadata": {},
   "outputs": [],
   "source": [
    "import numpy as np\n",
    "import pandas as pd\n",
    "from stock_indicators import indicators, Quote\n",
    "\n",
    "from warnings import simplefilter\n",
    "simplefilter('ignore')\n",
    "\n",
    "pd.set_option('display.max_columns', 100)\n",
    "pd.set_option('display.max_rows', 50)"
   ]
  },
  {
   "cell_type": "code",
   "execution_count": null,
   "id": "ae285153-2174-485a-933d-b8ae02195b68",
   "metadata": {},
   "outputs": [],
   "source": [
    "def prepare_data_for_generating_stock_indicators(data):\n",
    "    data['Date'] = pd.to_datetime(data['Date'])\n",
    "    prepared_data = [\n",
    "        Quote(d,o,h,l,c,v) \n",
    "        for d,o,h,l,c,v \n",
    "        in zip(data['Date'], data['Open'], data['High'], data['Low'], data['Close'], data['Volume'])\n",
    "    ]\n",
    "    \n",
    "    return prepared_data"
   ]
  },
  {
   "cell_type": "code",
   "execution_count": null,
   "id": "98a9ea6f-7435-4ece-b647-0ca377bbdd79",
   "metadata": {},
   "outputs": [],
   "source": [
    "data = pd.read_csv('dataPreparation/dummy_data.csv')\n",
    "prepared_data = prepare_data_for_generating_stock_indicators(data)"
   ]
  },
  {
   "cell_type": "markdown",
   "id": "427a5f68-fa91-4550-9b0f-dd42afaf008f",
   "metadata": {
    "jp-MarkdownHeadingCollapsed": true
   },
   "source": [
    "# Price Trend"
   ]
  },
  {
   "cell_type": "markdown",
   "id": "a64a5b80-4278-48b1-ad27-3de3e3b96ed5",
   "metadata": {
    "jp-MarkdownHeadingCollapsed": true
   },
   "source": [
    "## ATR Trailing Stop"
   ]
  },
  {
   "cell_type": "code",
   "execution_count": null,
   "id": "30cf06bc-f2b9-491b-9c34-b3d703099962",
   "metadata": {},
   "outputs": [],
   "source": [
    "def calculate_atr_trailing_stop(prepared_data):\n",
    "    result = indicators.get_atr_stop(prepared_data)\n",
    "    result_data = pd.DataFrame({\n",
    "        'Date': [val.date for val in result],\n",
    "        'ATR Stop': [val.atr_stop for val in result],\n",
    "        'Buy Stop': [val.buy_stop for val in result],\n",
    "        'Sell Stop': [val.sell_stop for val in result]\n",
    "    })\n",
    "\n",
    "    return result_data.set_index('Date')"
   ]
  },
  {
   "cell_type": "code",
   "execution_count": null,
   "id": "759f72fb-8b0b-4852-a7e5-770b6398f218",
   "metadata": {},
   "outputs": [],
   "source": [
    "atr_trailing_stop_df = calculate_atr_trailing_stop(prepared_data)"
   ]
  },
  {
   "cell_type": "code",
   "execution_count": null,
   "id": "50945c42-32e9-41cb-a683-b78b155015d8",
   "metadata": {},
   "outputs": [],
   "source": [
    "atr_trailing_stop_df"
   ]
  },
  {
   "cell_type": "markdown",
   "id": "fcc77c64-2ec6-4ac0-8435-da80d6a8deda",
   "metadata": {
    "jp-MarkdownHeadingCollapsed": true
   },
   "source": [
    "## Aroon"
   ]
  },
  {
   "cell_type": "code",
   "execution_count": null,
   "id": "64c19dc9-ca08-41ab-8f69-864464bdcbdc",
   "metadata": {},
   "outputs": [],
   "source": [
    "def calculate_aroon(prepared_data):\n",
    "    result = indicators.get_aroon(prepared_data)\n",
    "    result_df = pd.DataFrame({\n",
    "        'Date': [val.date for val in result],\n",
    "        'Aroon Up': [val.aroon_up for val in result],\n",
    "        'Aroon Down': [val.aroon_down for val in result],\n",
    "        'Oscillator': [val.oscillator for val in result]\n",
    "    })\n",
    "\n",
    "    return result_df.set_index('Date')"
   ]
  },
  {
   "cell_type": "code",
   "execution_count": null,
   "id": "066182ba-796c-407d-8733-6995bc9d9b18",
   "metadata": {},
   "outputs": [],
   "source": [
    "aroon_df = calculate_aroon(prepared_data)"
   ]
  },
  {
   "cell_type": "code",
   "execution_count": null,
   "id": "0cbceed6-28b1-4248-975e-29ad2f7b109e",
   "metadata": {},
   "outputs": [],
   "source": [
    "aroon_df"
   ]
  },
  {
   "cell_type": "markdown",
   "id": "d30a091d-aaa9-4224-a8a9-2faf0128feba",
   "metadata": {
    "jp-MarkdownHeadingCollapsed": true
   },
   "source": [
    "## Average Directional Index"
   ]
  },
  {
   "cell_type": "code",
   "execution_count": null,
   "id": "b64e354f-111f-4d0f-8a77-8fbcf2434a89",
   "metadata": {},
   "outputs": [],
   "source": [
    "def calculate_average_directional_index(prepared_data):\n",
    "    result = indicators.get_adx(prepared_data)\n",
    "    result_df = pd.DataFrame({\n",
    "        'Date': [val.date for val in result],\n",
    "        'Plus Directional Index': [val.pdi for val in result],\n",
    "        'Minus Directional Index': [val.mdi for val in result],\n",
    "        'Average Directional Index': [val.adx for val in result],\n",
    "        'Average Directional Index Rating': [val.adxr for val in result]\n",
    "    })\n",
    "\n",
    "    return result_df.set_index('Date')"
   ]
  },
  {
   "cell_type": "code",
   "execution_count": null,
   "id": "e9707929-80a7-49d1-9ece-e521d20dc8ba",
   "metadata": {},
   "outputs": [],
   "source": [
    "adx_df = calculate_average_directional_index(prepared_data)"
   ]
  },
  {
   "cell_type": "code",
   "execution_count": null,
   "id": "cd55aae9-c6ee-44a8-b20d-ce6b54d40f4b",
   "metadata": {
    "scrolled": true
   },
   "outputs": [],
   "source": [
    "adx_df"
   ]
  },
  {
   "cell_type": "markdown",
   "id": "0ee01c61-466c-4829-b2ef-ebed23668f7b",
   "metadata": {
    "jp-MarkdownHeadingCollapsed": true
   },
   "source": [
    "## Elder-Ray Index"
   ]
  },
  {
   "cell_type": "code",
   "execution_count": null,
   "id": "ba464fa4-3e65-4a4f-bf7b-8547d24d5b31",
   "metadata": {},
   "outputs": [],
   "source": [
    "def calculate_elder_ray_index(prepared_data):\n",
    "    result = indicators.get_elder_ray(prepared_data)\n",
    "    result_df = pd.DataFrame({\n",
    "        'Date': [val.date for val in result],\n",
    "        'Bull Power': [val.bull_power for val in result],\n",
    "        'Bear Power': [val.bear_power for val in result]\n",
    "    })\n",
    "\n",
    "    return result_df.set_index('Date')"
   ]
  },
  {
   "cell_type": "code",
   "execution_count": null,
   "id": "db480e48-197e-489a-8973-83226711923e",
   "metadata": {},
   "outputs": [],
   "source": [
    "elder_ray_df = calculate_elder_ray_index(prepared_data)"
   ]
  },
  {
   "cell_type": "code",
   "execution_count": null,
   "id": "06d87cc2-a122-4573-8dd7-3e418bf2d46d",
   "metadata": {},
   "outputs": [],
   "source": [
    "elder_ray_df "
   ]
  },
  {
   "cell_type": "markdown",
   "id": "472f7e15-3264-4958-a597-b3f8ddd32f4e",
   "metadata": {
    "jp-MarkdownHeadingCollapsed": true
   },
   "source": [
    "## Moving Average Convergence Divergence"
   ]
  },
  {
   "cell_type": "code",
   "execution_count": null,
   "id": "01c4bdda-fdc6-4a88-99bc-610197fef41b",
   "metadata": {},
   "outputs": [],
   "source": [
    "def calculate_moving_average_convergence_divergence(prepared_data):\n",
    "    result = indicators.get_macd(prepared_data)\n",
    "    result_df = pd.DataFrame({\n",
    "        'Date': [val.date for val in result],\n",
    "        'Histogram MACD': [val.histogram for val in result]\n",
    "        \n",
    "    })\n",
    "\n",
    "    return result_df.set_index('Date')"
   ]
  },
  {
   "cell_type": "code",
   "execution_count": null,
   "id": "921600d3-b0c7-4199-8cfe-32c71e18760d",
   "metadata": {},
   "outputs": [],
   "source": [
    "macd_df = calculate_moving_average_convergence_divergence(prepared_data)"
   ]
  },
  {
   "cell_type": "code",
   "execution_count": null,
   "id": "03de6bc4-62f0-46ef-ac53-578db592ee41",
   "metadata": {},
   "outputs": [],
   "source": [
    "macd_df"
   ]
  },
  {
   "cell_type": "markdown",
   "id": "e80ec8e8-4fd5-40b4-94f4-20a408d3cbc7",
   "metadata": {
    "jp-MarkdownHeadingCollapsed": true
   },
   "source": [
    "# Price Channels"
   ]
  },
  {
   "cell_type": "markdown",
   "id": "b4e87a79-a769-43ce-81c7-c6fc1229aeba",
   "metadata": {},
   "source": [
    "## Bollinger Bands"
   ]
  },
  {
   "cell_type": "code",
   "execution_count": null,
   "id": "f6ca5900-2b9b-4c25-8e62-d87b2ecc948f",
   "metadata": {},
   "outputs": [],
   "source": [
    "def calculate_bollinger_bands(prepared_data):\n",
    "    result = indicators.get_bollinger_bands(prepared_data)\n",
    "    result_df = pd.DataFrame({\n",
    "        'Date': [val.date for val in result],\n",
    "        'Percentage Bollinger': [val.percent_b for val in result],\n",
    "        'Z Score Bollinger': [val.z_score for val in result],    \n",
    "        'Width Bollinger': [val.width for val in result]\n",
    "    })\n",
    "\n",
    "    return result_df.set_index('Date')"
   ]
  },
  {
   "cell_type": "code",
   "execution_count": null,
   "id": "d99d5fb8-b42e-4d96-a6ec-5e3702a15735",
   "metadata": {},
   "outputs": [],
   "source": [
    "bollinger_bands_df = calculate_bollinger_bands(prepared_data)"
   ]
  },
  {
   "cell_type": "code",
   "execution_count": null,
   "id": "718f6b83-0383-4c9a-a8dd-beb1aabb0925",
   "metadata": {},
   "outputs": [],
   "source": [
    "bollinger_bands_df"
   ]
  },
  {
   "cell_type": "markdown",
   "id": "d6194aba-dd28-423a-a82c-1a4be50a2fb3",
   "metadata": {
    "jp-MarkdownHeadingCollapsed": true
   },
   "source": [
    "## Keltner Channels"
   ]
  },
  {
   "cell_type": "code",
   "execution_count": null,
   "id": "022dfe9b-c6ee-4f3e-a05e-25572dec0f14",
   "metadata": {},
   "outputs": [],
   "source": [
    "def calculate_keltner(prepared_data):\n",
    "    result = indicators.get_keltner(prepared_data)\n",
    "    result_df = pd.DataFrame({\n",
    "        'Date': [val.date for val in result],\n",
    "        'Width Keltner': [val.width for val in result]\n",
    "    })\n",
    "\n",
    "    return result_df.set_index('Date')"
   ]
  },
  {
   "cell_type": "code",
   "execution_count": null,
   "id": "17839c40-18ae-48f5-b236-37475b52090e",
   "metadata": {},
   "outputs": [],
   "source": [
    "keltner_df = calculate_keltner(prepared_data)"
   ]
  },
  {
   "cell_type": "code",
   "execution_count": null,
   "id": "ef0e864c-13da-41cb-9c81-77637c0b7188",
   "metadata": {},
   "outputs": [],
   "source": [
    "keltner_df"
   ]
  },
  {
   "cell_type": "markdown",
   "id": "4793be1a-a766-40f4-93c1-c3a075a72829",
   "metadata": {
    "jp-MarkdownHeadingCollapsed": true
   },
   "source": [
    "## Donchian Channels"
   ]
  },
  {
   "cell_type": "code",
   "execution_count": null,
   "id": "8803d684-4052-4fab-bce5-70b79bf2b09e",
   "metadata": {},
   "outputs": [],
   "source": [
    "def calculate_donchian(prepared_data):\n",
    "    result = indicators.get_donchian(prepared_data)\n",
    "    result_df = pd.DataFrame({\n",
    "        'Date': [val.date for val in result],\n",
    "        'Width Donchian': [val.width for val in result]\n",
    "    })\n",
    "\n",
    "    return result_df.set_index('Date')"
   ]
  },
  {
   "cell_type": "code",
   "execution_count": null,
   "id": "18cc944e-7cef-40e7-be48-ebefd50bb2fb",
   "metadata": {},
   "outputs": [],
   "source": [
    "donchian_df = calculate_donchian(prepared_data)"
   ]
  },
  {
   "cell_type": "code",
   "execution_count": null,
   "id": "7d942b1c-8dc2-49ee-acd5-ae625d58f38f",
   "metadata": {},
   "outputs": [],
   "source": [
    "donchian_df"
   ]
  },
  {
   "cell_type": "markdown",
   "id": "370bdbbb-050f-42bd-8991-871832ac6d51",
   "metadata": {
    "jp-MarkdownHeadingCollapsed": true
   },
   "source": [
    "# Oscilators"
   ]
  },
  {
   "cell_type": "markdown",
   "id": "7710b573-6571-4cfc-a6a5-3d29736a779c",
   "metadata": {
    "jp-MarkdownHeadingCollapsed": true
   },
   "source": [
    "## Relative Strength Index"
   ]
  },
  {
   "cell_type": "code",
   "execution_count": null,
   "id": "00949608-1005-4f18-a899-38a17e2f4a51",
   "metadata": {},
   "outputs": [],
   "source": [
    "def calculate_relative_strength_index(prepared_data):\n",
    "    result = indicators.get_rsi(prepared_data)\n",
    "    result_df = pd.DataFrame({\n",
    "        'Date': [val.date for val in result],\n",
    "        'Relative Strength Index': [val.rsi for val in result]\n",
    "    })\n",
    "\n",
    "    return result_df.set_index('Date')"
   ]
  },
  {
   "cell_type": "code",
   "execution_count": null,
   "id": "2a2968ba-21d4-40e7-bd48-dde43179ebc7",
   "metadata": {},
   "outputs": [],
   "source": [
    "rsi_df = calculate_relative_strength_index(prepared_data)"
   ]
  },
  {
   "cell_type": "code",
   "execution_count": null,
   "id": "d782a3e7-bd4d-4c3f-814d-25a3ad6f7d78",
   "metadata": {},
   "outputs": [],
   "source": [
    "rsi_df"
   ]
  },
  {
   "cell_type": "markdown",
   "id": "d1aaa967-8eb8-4d6e-b63c-8cdb0e6b5b08",
   "metadata": {
    "jp-MarkdownHeadingCollapsed": true
   },
   "source": [
    "## Stochastic Oscilators"
   ]
  },
  {
   "cell_type": "code",
   "execution_count": null,
   "id": "09ff2cd6-930e-4532-9e20-94af07b82f7e",
   "metadata": {},
   "outputs": [],
   "source": [
    "def calculate_stochastic_oscillator(prepared_data):\n",
    "    result = indicators.get_stoch(prepared_data)\n",
    "    result_df = pd.DataFrame({\n",
    "        'Date': [val.date for val in result],\n",
    "        'Stochastic Oscilator': [val.oscillator for val in result],\n",
    "        'Signal Stochastic Oscilator': [val.signal for val in result],\n",
    "        'Percent Stochastic Oscilator': [val.percent_j for val in result],\n",
    "    })\n",
    "\n",
    "    return result_df.set_index('Date')"
   ]
  },
  {
   "cell_type": "code",
   "execution_count": null,
   "id": "35527dca-2445-4f72-a0e7-fa58a3346957",
   "metadata": {},
   "outputs": [],
   "source": [
    "stochastic_oscilator_df = calculate_stochastic_oscillator(prepared_data)"
   ]
  },
  {
   "cell_type": "code",
   "execution_count": null,
   "id": "3737b721-b02b-4795-bdde-c4069c76f995",
   "metadata": {},
   "outputs": [],
   "source": [
    "stochastic_oscilator_df"
   ]
  },
  {
   "cell_type": "markdown",
   "id": "0799787f-1433-449b-9959-2c3f6defe5a6",
   "metadata": {
    "jp-MarkdownHeadingCollapsed": true
   },
   "source": [
    "# Volume Based"
   ]
  },
  {
   "cell_type": "markdown",
   "id": "4a4cf895-c135-4c19-a880-ba09a051c9fb",
   "metadata": {
    "jp-MarkdownHeadingCollapsed": true
   },
   "source": [
    "## On Balance Volume"
   ]
  },
  {
   "cell_type": "code",
   "execution_count": null,
   "id": "212d4266-6834-49c2-a03b-7fb43a62b04a",
   "metadata": {},
   "outputs": [],
   "source": [
    "def calculate_on_balance_volume(prepared_data):\n",
    "    result = indicators.get_obv(prepared_data, 10)\n",
    "    result_df = pd.DataFrame({\n",
    "        'Date': [val.date for val in result],\n",
    "        'On Balance Volume': [val.obv for val in result],\n",
    "        'On Balance Volume Moving Average': [val.obv_sma for val in result]\n",
    "    })\n",
    "\n",
    "    return result_df.set_index('Date')"
   ]
  },
  {
   "cell_type": "code",
   "execution_count": null,
   "id": "c5a88ed8-cd7a-4c43-a9de-2e4eb40a674e",
   "metadata": {},
   "outputs": [],
   "source": [
    "obv_df = calculate_on_balance_volume(prepared_data)"
   ]
  },
  {
   "cell_type": "code",
   "execution_count": null,
   "id": "5c26dd58-3f08-48ca-b4a0-1e2475eb336e",
   "metadata": {},
   "outputs": [],
   "source": [
    "obv_df"
   ]
  },
  {
   "cell_type": "markdown",
   "id": "a7420cd9-a174-4dbf-ab61-545c43bf3eaf",
   "metadata": {
    "jp-MarkdownHeadingCollapsed": true
   },
   "source": [
    "## Accumulation Distribution Line"
   ]
  },
  {
   "cell_type": "code",
   "execution_count": null,
   "id": "8aed90f2-543a-4343-9089-ee524395d334",
   "metadata": {},
   "outputs": [],
   "source": [
    "def calculate_accumulation_distribution_line(prepared_data):\n",
    "    result = indicators.get_adl(prepared_data, 10)\n",
    "    result_df = pd.DataFrame({\n",
    "        'Date': [val.date for val in result],\n",
    "        'Money Flow Multiplier ADL': [val.money_flow_multiplier for val in result],\n",
    "        'Money Flow Volume ADL': [val.money_flow_volume for val in result],\n",
    "        'Accumulation Distribution Line': [val.adl for val in result],\n",
    "        'Accumulation Distribution Line Moving Average': [val.adl_sma for val in result],\n",
    "    })\n",
    "\n",
    "    return result_df.set_index('Date')"
   ]
  },
  {
   "cell_type": "code",
   "execution_count": null,
   "id": "582b3447-cabd-4642-a5b3-3868430e528d",
   "metadata": {},
   "outputs": [],
   "source": [
    "adl_df = calculate_accumulation_distribution_line(prepared_data)"
   ]
  },
  {
   "cell_type": "code",
   "execution_count": null,
   "id": "b41c48f3-d52b-4645-b505-462bf3481232",
   "metadata": {},
   "outputs": [],
   "source": [
    "adl_df"
   ]
  },
  {
   "cell_type": "markdown",
   "id": "dc58f007-55e4-4da0-94c2-74df3be3db55",
   "metadata": {
    "jp-MarkdownHeadingCollapsed": true
   },
   "source": [
    "## Chaikin Money Flow"
   ]
  },
  {
   "cell_type": "code",
   "execution_count": null,
   "id": "4b936f24-b2e5-40b5-896b-9743bd9485e2",
   "metadata": {},
   "outputs": [],
   "source": [
    "def calculate_chaikin_money_flow(prepared_data):\n",
    "    result = indicators.get_cmf(prepared_data)\n",
    "    result_df = pd.DataFrame({\n",
    "        'Date': [val.date for val in result],\n",
    "        'Money Flow Multiplier CMF': [val.money_flow_multiplier for val in result],\n",
    "        'Money Flow Volume CMF': [val.money_flow_volume for val in result],\n",
    "        'Chaikin Money Flow': [val.cmf for val in result]\n",
    "    })\n",
    "\n",
    "    return result_df.set_index('Date')"
   ]
  },
  {
   "cell_type": "code",
   "execution_count": null,
   "id": "b85f9fe3-b3b0-4b24-a34c-a25598f23ba9",
   "metadata": {},
   "outputs": [],
   "source": [
    "cmf_df = calculate_chaikin_money_flow(prepared_data)"
   ]
  },
  {
   "cell_type": "code",
   "execution_count": null,
   "id": "c9a87e51-8024-476d-948f-194a185e6d48",
   "metadata": {},
   "outputs": [],
   "source": [
    "cmf_df"
   ]
  },
  {
   "cell_type": "markdown",
   "id": "a6704087-8b2d-479a-8c58-ccf5a34c5345",
   "metadata": {
    "jp-MarkdownHeadingCollapsed": true
   },
   "source": [
    "## Money Flow Index"
   ]
  },
  {
   "cell_type": "code",
   "execution_count": null,
   "id": "2c1a49c0-3fce-41ae-a577-95a0e97f2122",
   "metadata": {},
   "outputs": [],
   "source": [
    "def calculate_money_flow_index(prepared_data):\n",
    "    result = indicators.get_mfi(prepared_data)\n",
    "    result_df = pd.DataFrame({\n",
    "        'Date': [val.date for val in result],\n",
    "        'Money Flow Index': [val.mfi for val in result]\n",
    "    })\n",
    "\n",
    "    return result_df.set_index('Date')"
   ]
  },
  {
   "cell_type": "code",
   "execution_count": null,
   "id": "899f6f86-073d-444c-b233-5e472ce0acd9",
   "metadata": {},
   "outputs": [],
   "source": [
    "mfi_df = calculate_money_flow_index(prepared_data)"
   ]
  },
  {
   "cell_type": "code",
   "execution_count": null,
   "id": "60e7915f-dbab-4bee-9ec7-d18bd58998f8",
   "metadata": {},
   "outputs": [],
   "source": [
    "mfi_df"
   ]
  },
  {
   "cell_type": "markdown",
   "id": "4b552c77-ff6e-4cac-b635-599a8d951a78",
   "metadata": {
    "jp-MarkdownHeadingCollapsed": true
   },
   "source": [
    "# Price Transformations"
   ]
  },
  {
   "cell_type": "markdown",
   "id": "78a0691b-fa88-4139-9d75-768051c5f4cc",
   "metadata": {
    "jp-MarkdownHeadingCollapsed": true
   },
   "source": [
    "## Ehlers Fisher Transform"
   ]
  },
  {
   "cell_type": "code",
   "execution_count": null,
   "id": "376bc46f-8f73-4f01-bbd5-3f8391a18e7d",
   "metadata": {},
   "outputs": [],
   "source": [
    "def calculate_ehler_fisher_transform(prepared_data):\n",
    "    result = indicators.get_fisher_transform(prepared_data)\n",
    "    result_df = pd.DataFrame({\n",
    "        'Date': [val.date for val in result],\n",
    "        'Fisher Transform': [val.fisher for val in result],\n",
    "        'Fisher Transform Trigger': [val.trigger for val in result]\n",
    "    })\n",
    "\n",
    "    return result_df.set_index('Date')"
   ]
  },
  {
   "cell_type": "code",
   "execution_count": null,
   "id": "eb3099bb-245d-4838-8a7c-53aafe104299",
   "metadata": {},
   "outputs": [],
   "source": [
    "ehler_fisher_df = calculate_ehler_fisher_transform(prepared_data)"
   ]
  },
  {
   "cell_type": "code",
   "execution_count": null,
   "id": "bd7fa48e-936a-430e-8f2a-4ccac6415a5f",
   "metadata": {
    "scrolled": true
   },
   "outputs": [],
   "source": [
    "ehler_fisher_df"
   ]
  },
  {
   "cell_type": "markdown",
   "id": "99afe7f2-0bd5-4fbc-bdf1-856d306bcf80",
   "metadata": {
    "jp-MarkdownHeadingCollapsed": true
   },
   "source": [
    "## Zig Zag Result"
   ]
  },
  {
   "cell_type": "code",
   "execution_count": null,
   "id": "bbad3440-d8fb-4e45-a5d6-f67376139ca5",
   "metadata": {},
   "outputs": [],
   "source": [
    "def calculate_zig_zag(prepared_data):\n",
    "    result = indicators.get_zig_zag(prepared_data)\n",
    "    result_df = pd.DataFrame({\n",
    "        'Date': [val.date for val in result],\n",
    "        'Zig Zag': [val.zig_zag for val in result],\n",
    "        'Zig Zag Endpoint': [val.point_type for val in result],\n",
    "        'Retrace High': [val.retrace_high for val in result],\n",
    "        'Retrace Low': [val.retrace_low for val in result],\n",
    "    })\n",
    "\n",
    "    return result_df.set_index('Date')"
   ]
  },
  {
   "cell_type": "code",
   "execution_count": null,
   "id": "a4f781d6-6053-4c05-9786-bdb3b1af19a1",
   "metadata": {},
   "outputs": [],
   "source": [
    "zig_zag_df = calculate_zig_zag(prepared_data)"
   ]
  },
  {
   "cell_type": "code",
   "execution_count": null,
   "id": "dc0dc82b-8511-475d-9781-2f08f0199a0d",
   "metadata": {},
   "outputs": [],
   "source": [
    "zig_zag_df"
   ]
  },
  {
   "cell_type": "markdown",
   "id": "5e4f8fd1-bc89-4f78-abc3-5b4e2fdc6bc9",
   "metadata": {
    "jp-MarkdownHeadingCollapsed": true
   },
   "source": [
    "# Combine All Indicators"
   ]
  },
  {
   "cell_type": "code",
   "execution_count": null,
   "id": "353c84a0-846f-499c-aa09-473473c202f7",
   "metadata": {},
   "outputs": [],
   "source": [
    "price_trends = [atr_trailing_stop_df, aroon_df, adx_df, elder_ray_df, macd_df]\n",
    "price_channels = [bollinger_bands_df, keltner_df, donchian_df]\n",
    "oscillators = [rsi_df, stochastic_oscilator_df]\n",
    "volume_based = [obv_df, adl_df, cmf_df, mfi_df]\n",
    "price_transformations = [ehler_fisher_df, zig_zag_df]"
   ]
  },
  {
   "cell_type": "code",
   "execution_count": null,
   "id": "d4c6cc99-71d2-456c-97a8-284fb5e2dec3",
   "metadata": {},
   "outputs": [],
   "source": [
    "all_stock_indicators = price_trends + price_channels + oscillators + volume_based + price_transformations"
   ]
  },
  {
   "cell_type": "code",
   "execution_count": null,
   "id": "2df965c1-aa36-49a8-b626-2d87fbd4de05",
   "metadata": {},
   "outputs": [],
   "source": [
    "data['Date'] = pd.to_datetime(data['Date'])\n",
    "data.set_index('Date', inplace=True)"
   ]
  },
  {
   "cell_type": "code",
   "execution_count": null,
   "id": "6627873c-de4b-44a3-8e1c-e4b08459d54c",
   "metadata": {},
   "outputs": [],
   "source": [
    "data.join(all_stock_indicators).to_csv('dummy_stock_indicators.csv', index=False)"
   ]
  },
  {
   "cell_type": "code",
   "execution_count": null,
   "id": "ab1720c2-ce26-4081-9410-6348fed7b01c",
   "metadata": {},
   "outputs": [],
   "source": []
  }
 ],
 "metadata": {
  "kernelspec": {
   "display_name": "Python 3 (ipykernel)",
   "language": "python",
   "name": "python3"
  },
  "language_info": {
   "codemirror_mode": {
    "name": "ipython",
    "version": 3
   },
   "file_extension": ".py",
   "mimetype": "text/x-python",
   "name": "python",
   "nbconvert_exporter": "python",
   "pygments_lexer": "ipython3",
   "version": "3.10.15"
  }
 },
 "nbformat": 4,
 "nbformat_minor": 5
}
