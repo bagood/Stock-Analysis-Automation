{
 "cells": [
  {
   "cell_type": "code",
   "execution_count": null,
   "id": "2984e2bf-3800-45cb-981d-4066e621073b",
   "metadata": {},
   "outputs": [],
   "source": [
    "import numpy as np\n",
    "import pandas as pd\n",
    "\n",
    "from technicalIndicators.main import generate_all_technical_indicators \n",
    "\n",
    "from warnings import simplefilter\n",
    "simplefilter('ignore')\n",
    "\n",
    "pd.set_option('display.max_columns', 100)\n",
    "pd.set_option('display.max_rows', 50)"
   ]
  },
  {
   "cell_type": "code",
   "execution_count": null,
   "id": "98a9ea6f-7435-4ece-b647-0ca377bbdd79",
   "metadata": {},
   "outputs": [],
   "source": [
    "data = pd.read_csv('dataPreparation/dummy_data.csv')\n",
    "prepared_data = generate_all_technical_indicators(data)"
   ]
  },
  {
   "cell_type": "code",
   "execution_count": null,
   "id": "319a4322-c0e4-480c-baa5-67d0eefc96df",
   "metadata": {},
   "outputs": [],
   "source": [
    "feature_columns = ['Close'] + prepared_data.columns[6:].tolist()\n",
    "feature_data = prepared_data[feature_columns]"
   ]
  },
  {
   "cell_type": "code",
   "execution_count": null,
   "id": "8c6a935b-753a-4a78-87da-1004958f9daa",
   "metadata": {},
   "outputs": [],
   "source": [
    "feature_data.describe()"
   ]
  },
  {
   "cell_type": "code",
   "execution_count": null,
   "id": "ecd36af6-a234-4077-b9bd-f79409d05b8a",
   "metadata": {},
   "outputs": [],
   "source": [
    "feature_data.head(3)"
   ]
  },
  {
   "cell_type": "code",
   "execution_count": null,
   "id": "32c71a22-34f1-4d46-a326-fc46719493b7",
   "metadata": {},
   "outputs": [],
   "source": [
    "feature_data.tail(20).head(10)"
   ]
  },
  {
   "cell_type": "code",
   "execution_count": null,
   "id": "0d35ad0b-0d87-4f2e-90bb-bc6ae2cb1379",
   "metadata": {},
   "outputs": [],
   "source": [
    "np.isnan(np.nan)"
   ]
  },
  {
   "cell_type": "code",
   "execution_count": null,
   "id": "a934b883-c904-478d-91fb-8e73ad2a5b4c",
   "metadata": {},
   "outputs": [],
   "source": []
  },
  {
   "cell_type": "code",
   "execution_count": null,
   "id": "98904d4c-9ede-4830-b87b-ad1ae70a87b2",
   "metadata": {},
   "outputs": [],
   "source": []
  },
  {
   "cell_type": "code",
   "execution_count": null,
   "id": "5dd07542-d0a4-4ee8-bfeb-b1b9c9a0b508",
   "metadata": {},
   "outputs": [],
   "source": []
  },
  {
   "cell_type": "code",
   "execution_count": null,
   "id": "13d924cd-9be2-4fde-8a2d-d1f5dbade5d7",
   "metadata": {},
   "outputs": [],
   "source": []
  },
  {
   "cell_type": "code",
   "execution_count": null,
   "id": "90e38a60-af44-4bae-aa12-e3c03006709c",
   "metadata": {},
   "outputs": [],
   "source": []
  },
  {
   "cell_type": "code",
   "execution_count": null,
   "id": "bd73933a-e775-4db8-9db1-a35356f55581",
   "metadata": {},
   "outputs": [],
   "source": []
  },
  {
   "cell_type": "code",
   "execution_count": null,
   "id": "c8923df4-528a-40bc-aecf-d98f6c680f41",
   "metadata": {},
   "outputs": [],
   "source": []
  },
  {
   "cell_type": "code",
   "execution_count": null,
   "id": "ede7bfbe-9cbf-4dd3-b4ea-3b654323f99a",
   "metadata": {},
   "outputs": [],
   "source": []
  },
  {
   "cell_type": "code",
   "execution_count": null,
   "id": "cbb7eea4-597d-40af-bb3c-c2ff84219e67",
   "metadata": {},
   "outputs": [],
   "source": []
  },
  {
   "cell_type": "code",
   "execution_count": null,
   "id": "974f340f-2ed6-4e88-ab2a-749f10f2a1be",
   "metadata": {},
   "outputs": [],
   "source": []
  },
  {
   "cell_type": "code",
   "execution_count": null,
   "id": "651c730d-52b3-46c2-a55c-a3a4ac71a88b",
   "metadata": {},
   "outputs": [],
   "source": []
  }
 ],
 "metadata": {
  "kernelspec": {
   "display_name": "Python 3 (ipykernel)",
   "language": "python",
   "name": "python3"
  },
  "language_info": {
   "codemirror_mode": {
    "name": "ipython",
    "version": 3
   },
   "file_extension": ".py",
   "mimetype": "text/x-python",
   "name": "python",
   "nbconvert_exporter": "python",
   "pygments_lexer": "ipython3",
   "version": "3.10.15"
  }
 },
 "nbformat": 4,
 "nbformat_minor": 5
}
