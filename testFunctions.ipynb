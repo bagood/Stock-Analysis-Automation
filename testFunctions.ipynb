{
 "cells": [
  {
   "cell_type": "markdown",
   "id": "7bfaee6d-feba-4271-b04d-3136fc43c915",
   "metadata": {},
   "source": [
    "# Import Packages"
   ]
  },
  {
   "cell_type": "code",
   "execution_count": 1,
   "id": "2984e2bf-3800-45cb-981d-4066e621073b",
   "metadata": {},
   "outputs": [],
   "source": [
    "from warnings import simplefilter\n",
    "simplefilter('ignore')\n",
    "\n",
    "import numpy as np\n",
    "import pandas as pd\n",
    "\n",
    "from dataPreparation.main import prepare_data_for_modelling\n",
    "from modelDevelopment.main import split_data_to_train_and_test, initialize_and_fit_model, measure_model_performance\n",
    "\n",
    "pd.set_option('display.max_columns', 100)\n",
    "pd.set_option('display.max_rows', 50)"
   ]
  },
  {
   "cell_type": "markdown",
   "id": "c121e04e-ff96-4e87-b9a7-53db9252ceb3",
   "metadata": {},
   "source": [
    "# Load Data"
   ]
  },
  {
   "cell_type": "code",
   "execution_count": 2,
   "id": "51045502-2c72-400c-b2b6-c3fcacbafac5",
   "metadata": {},
   "outputs": [],
   "source": [
    "prepared_data = prepare_data_for_modelling('BBCA.JK', '2021-01-01', '', 'Close', [10, 15])"
   ]
  },
  {
   "cell_type": "markdown",
   "id": "50db92c0-6b2c-49a0-ae89-f482a34e4a01",
   "metadata": {},
   "source": [
    "# Modelling Experiments"
   ]
  },
  {
   "cell_type": "code",
   "execution_count": 3,
   "id": "6a613e3b-cc55-42f6-a599-108d72d735a3",
   "metadata": {},
   "outputs": [],
   "source": [
    "import time"
   ]
  },
  {
   "cell_type": "code",
   "execution_count": 4,
   "id": "928f2130-0055-4a30-be5b-dd0bc17e19e1",
   "metadata": {},
   "outputs": [
    {
     "name": "stdout",
     "output_type": "stream",
     "text": [
      "Fitting 3 folds for each of 1 candidates, totalling 3 fits\n",
      "Fitting 3 folds for each of 1 candidates, totalling 3 fits\n",
      "Fitting 3 folds for each of 1 candidates, totalling 3 fits\n",
      "Fitting 3 folds for each of 1 candidates, totalling 3 fits\n",
      "Fitting 3 folds for each of 1 candidates, totalling 3 fits\n",
      "Fitting 3 folds for each of 1 candidates, totalling 3 fits\n",
      "Fitting 3 folds for each of 1 candidates, totalling 3 fits\n",
      "Fitting 3 folds for each of 1 candidates, totalling 3 fits\n",
      "Fitting 3 folds for each of 1 candidates, totalling 3 fits\n",
      "Fitting 3 folds for each of 1 candidates, totalling 3 fits\n",
      "Best parameters found from hyperparameter tuning:\n",
      "OrderedDict([('depth', 5), ('iterations', 255), ('l2_leaf_reg', 2.6791298211580377), ('learning_rate', 0.026050801373046377)])\n",
      "\n",
      "Best cross-validated ROC AUC: 0.4545\n",
      "------------------------------\n",
      "\n",
      "Model performance on training data\n",
      "\n",
      "              precision    recall  f1-score   support\n",
      "\n",
      "  Down Trend       0.88      0.83      0.86       399\n",
      "    Up Trend       0.86      0.90      0.88       454\n",
      "\n",
      "    accuracy                           0.87       853\n",
      "   macro avg       0.87      0.87      0.87       853\n",
      "weighted avg       0.87      0.87      0.87       853\n",
      "\n",
      "    Gini:  0.8680567056407538\n",
      "\n",
      "Model performance on testing data\n",
      "\n",
      "              precision    recall  f1-score   support\n",
      "\n",
      "  Down Trend       1.00      0.36      0.53        28\n",
      "    Up Trend       0.10      1.00      0.18         2\n",
      "\n",
      "    accuracy                           0.40        30\n",
      "   macro avg       0.55      0.68      0.35        30\n",
      "weighted avg       0.94      0.40      0.50        30\n",
      "\n",
      "    Gini:   0.7142857142857144\n",
      "\n",
      "Modelling took 8.413300037384033 seconds\n"
     ]
    }
   ],
   "source": [
    "start_time = time.time()\n",
    "\n",
    "feature_columns = prepared_data.columns[6:-2]\n",
    "target_column = 'Upcoming 10 Days Trend'\n",
    "\n",
    "train_feature, train_target, test_feature, test_target, forecast_feature = split_data_to_train_and_test(prepared_data, feature_columns, target_column)\n",
    "model = initialize_and_fit_model(train_feature, train_target)\n",
    "measure_model_performance(model, train_feature, train_target, test_feature, test_target)\n",
    "\n",
    "end_time = time.time()\n",
    "print(f'Modelling took {end_time - start_time} seconds')"
   ]
  },
  {
   "cell_type": "code",
   "execution_count": 5,
   "id": "6466d0e0-737a-4b64-92d2-7e4c5d92dbcb",
   "metadata": {},
   "outputs": [
    {
     "name": "stdout",
     "output_type": "stream",
     "text": [
      "Fitting 3 folds for each of 1 candidates, totalling 3 fits\n",
      "Fitting 3 folds for each of 1 candidates, totalling 3 fits\n",
      "Fitting 3 folds for each of 1 candidates, totalling 3 fits\n",
      "Fitting 3 folds for each of 1 candidates, totalling 3 fits\n",
      "Fitting 3 folds for each of 1 candidates, totalling 3 fits\n",
      "Fitting 3 folds for each of 1 candidates, totalling 3 fits\n",
      "Fitting 3 folds for each of 1 candidates, totalling 3 fits\n",
      "Fitting 3 folds for each of 1 candidates, totalling 3 fits\n",
      "Fitting 3 folds for each of 1 candidates, totalling 3 fits\n",
      "Fitting 3 folds for each of 1 candidates, totalling 3 fits\n",
      "Best parameters found from hyperparameter tuning:\n",
      "OrderedDict([('depth', 4), ('iterations', 176), ('l2_leaf_reg', 1.9951176937803201), ('learning_rate', 0.06349869225424211)])\n",
      "\n",
      "Best cross-validated ROC AUC: 0.4543\n",
      "------------------------------\n",
      "\n",
      "Model performance on training data\n",
      "\n",
      "              precision    recall  f1-score   support\n",
      "\n",
      "  Down Trend       0.87      0.80      0.84       382\n",
      "    Up Trend       0.85      0.90      0.87       466\n",
      "\n",
      "    accuracy                           0.86       848\n",
      "   macro avg       0.86      0.85      0.85       848\n",
      "weighted avg       0.86      0.86      0.86       848\n",
      "\n",
      "    Gini:  0.8808001707750042\n",
      "\n",
      "Model performance on testing data\n",
      "\n",
      "              precision    recall  f1-score   support\n",
      "\n",
      "  Down Trend       1.00      0.27      0.42        30\n",
      "    Up Trend       0.00      0.00      0.00         0\n",
      "\n",
      "    accuracy                           0.27        30\n",
      "   macro avg       0.50      0.13      0.21        30\n",
      "weighted avg       1.00      0.27      0.42        30\n",
      "\n",
      "    Gini:   nan\n",
      "\n",
      "Modelling took 2.7627933025360107 seconds\n"
     ]
    }
   ],
   "source": [
    "start_time = time.time()\n",
    "\n",
    "feature_columns = prepared_data.columns[6:-2]\n",
    "target_column = 'Upcoming 15 Days Trend'\n",
    "\n",
    "train_feature, train_target, test_feature, test_target, forecast_feature = split_data_to_train_and_test(prepared_data, feature_columns, target_column)\n",
    "model = initialize_and_fit_model(train_feature, train_target)\n",
    "measure_model_performance(model, train_feature, train_target, test_feature, test_target)\n",
    "\n",
    "end_time = time.time()\n",
    "print(f'Modelling took {end_time - start_time} seconds')"
   ]
  },
  {
   "cell_type": "code",
   "execution_count": null,
   "id": "c2ea33e6-3f22-4d87-b1b9-370a0c39371e",
   "metadata": {},
   "outputs": [],
   "source": []
  }
 ],
 "metadata": {
  "kernelspec": {
   "display_name": "Python 3 (ipykernel)",
   "language": "python",
   "name": "python3"
  },
  "language_info": {
   "codemirror_mode": {
    "name": "ipython",
    "version": 3
   },
   "file_extension": ".py",
   "mimetype": "text/x-python",
   "name": "python",
   "nbconvert_exporter": "python",
   "pygments_lexer": "ipython3",
   "version": "3.11.7"
  }
 },
 "nbformat": 4,
 "nbformat_minor": 5
}
