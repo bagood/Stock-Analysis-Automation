{
 "cells": [
  {
   "cell_type": "markdown",
   "id": "7bfaee6d-feba-4271-b04d-3136fc43c915",
   "metadata": {},
   "source": [
    "# Import Packages"
   ]
  },
  {
   "cell_type": "code",
   "execution_count": 1,
   "id": "2984e2bf-3800-45cb-981d-4066e621073b",
   "metadata": {},
   "outputs": [],
   "source": [
    "from warnings import simplefilter\n",
    "simplefilter('ignore')\n",
    "\n",
    "import numpy as np\n",
    "import pandas as pd\n",
    "from datetime import datetime, timedelta\n",
    "\n",
    "from performStockAnalysis.main import select_kode_to_model, develop_models_for_selected_kode\n",
    "\n",
    "pd.set_option('display.max_columns', 100)\n",
    "pd.set_option('display.max_rows', 50)"
   ]
  },
  {
   "cell_type": "code",
   "execution_count": 2,
   "id": "337e6166-2fce-44c0-a0a4-1498e7856a02",
   "metadata": {},
   "outputs": [],
   "source": [
    "# selected_kode = select_kode_to_model(2)"
   ]
  },
  {
   "cell_type": "code",
   "execution_count": 3,
   "id": "3b9bdfcd-f915-4642-ae52-d28eb83c1681",
   "metadata": {},
   "outputs": [
    {
     "name": "stdout",
     "output_type": "stream",
     "text": [
      "Fitting 3 folds for each of 1 candidates, totalling 3 fits\n",
      "Fitting 3 folds for each of 1 candidates, totalling 3 fits\n",
      "Fitting 3 folds for each of 1 candidates, totalling 3 fits\n",
      "Fitting 3 folds for each of 1 candidates, totalling 3 fits\n",
      "Fitting 3 folds for each of 1 candidates, totalling 3 fits\n",
      "Fitting 3 folds for each of 1 candidates, totalling 3 fits\n",
      "Fitting 3 folds for each of 1 candidates, totalling 3 fits\n",
      "Fitting 3 folds for each of 1 candidates, totalling 3 fits\n",
      "Fitting 3 folds for each of 1 candidates, totalling 3 fits\n",
      "Fitting 3 folds for each of 1 candidates, totalling 3 fits\n",
      "Best parameters found from hyperparameter tuning:\n",
      "OrderedDict([('depth', 1), ('iterations', 273), ('l2_leaf_reg', 2.3532068609200683), ('learning_rate', 0.017970255745729236)])\n",
      "\n",
      "Best cross-validated ROC AUC: 0.4947\n",
      "------------------------------\n",
      "\n",
      "Fitting 3 folds for each of 1 candidates, totalling 3 fits\n",
      "Fitting 3 folds for each of 1 candidates, totalling 3 fits\n",
      "Fitting 3 folds for each of 1 candidates, totalling 3 fits\n",
      "Fitting 3 folds for each of 1 candidates, totalling 3 fits\n",
      "Fitting 3 folds for each of 1 candidates, totalling 3 fits\n",
      "Fitting 3 folds for each of 1 candidates, totalling 3 fits\n",
      "Fitting 3 folds for each of 1 candidates, totalling 3 fits\n",
      "Fitting 3 folds for each of 1 candidates, totalling 3 fits\n",
      "Fitting 3 folds for each of 1 candidates, totalling 3 fits\n",
      "Fitting 3 folds for each of 1 candidates, totalling 3 fits\n",
      "Best parameters found from hyperparameter tuning:\n",
      "OrderedDict([('depth', 1), ('iterations', 273), ('l2_leaf_reg', 2.3532068609200683), ('learning_rate', 0.017970255745729236)])\n",
      "\n",
      "Best cross-validated ROC AUC: 0.5285\n",
      "------------------------------\n",
      "\n"
     ]
    }
   ],
   "source": [
    "all_model_performances_10_days, all_model_performances_15_days = develop_models_for_selected_kode(['dummy'])"
   ]
  },
  {
   "cell_type": "code",
   "execution_count": 4,
   "id": "4488ca82-355a-4e64-bd49-659feb281c7d",
   "metadata": {},
   "outputs": [
    {
     "data": {
      "text/html": [
       "<div>\n",
       "<style scoped>\n",
       "    .dataframe tbody tr th:only-of-type {\n",
       "        vertical-align: middle;\n",
       "    }\n",
       "\n",
       "    .dataframe tbody tr th {\n",
       "        vertical-align: top;\n",
       "    }\n",
       "\n",
       "    .dataframe thead th {\n",
       "        text-align: right;\n",
       "    }\n",
       "</style>\n",
       "<table border=\"1\" class=\"dataframe\">\n",
       "  <thead>\n",
       "    <tr style=\"text-align: right;\">\n",
       "      <th></th>\n",
       "      <th>Kode</th>\n",
       "      <th>Train - Accuracy</th>\n",
       "      <th>Train - Precicion Up Trend</th>\n",
       "      <th>Train - Precicion Down Trend</th>\n",
       "      <th>Train - Recall Up Trend</th>\n",
       "      <th>Train - Recall Down Trend</th>\n",
       "      <th>Train - Gini</th>\n",
       "      <th>Test - Accuracy</th>\n",
       "      <th>Test - Precicion Up Trend</th>\n",
       "      <th>Test - Precicion Down Trend</th>\n",
       "      <th>Test - Recall Up Trend</th>\n",
       "      <th>Test - Recall Down Trend</th>\n",
       "      <th>Test - Gini</th>\n",
       "    </tr>\n",
       "  </thead>\n",
       "  <tbody>\n",
       "    <tr>\n",
       "      <th>0</th>\n",
       "      <td>dummy</td>\n",
       "      <td>0.605651</td>\n",
       "      <td>0.606171</td>\n",
       "      <td>0.604563</td>\n",
       "      <td>0.762557</td>\n",
       "      <td>0.422872</td>\n",
       "      <td>0.27373</td>\n",
       "      <td>0.366667</td>\n",
       "      <td>0.25</td>\n",
       "      <td>0.384615</td>\n",
       "      <td>0.058824</td>\n",
       "      <td>0.769231</td>\n",
       "      <td>-0.140271</td>\n",
       "    </tr>\n",
       "  </tbody>\n",
       "</table>\n",
       "</div>"
      ],
      "text/plain": [
       "    Kode  Train - Accuracy  Train - Precicion Up Trend  \\\n",
       "0  dummy          0.605651                    0.606171   \n",
       "\n",
       "   Train - Precicion Down Trend  Train - Recall Up Trend  \\\n",
       "0                      0.604563                 0.762557   \n",
       "\n",
       "   Train - Recall Down Trend  Train - Gini  Test - Accuracy  \\\n",
       "0                   0.422872       0.27373         0.366667   \n",
       "\n",
       "   Test - Precicion Up Trend  Test - Precicion Down Trend  \\\n",
       "0                       0.25                     0.384615   \n",
       "\n",
       "   Test - Recall Up Trend  Test - Recall Down Trend  Test - Gini  \n",
       "0                0.058824                  0.769231    -0.140271  "
      ]
     },
     "execution_count": 4,
     "metadata": {},
     "output_type": "execute_result"
    }
   ],
   "source": [
    "all_model_performances_10_days"
   ]
  },
  {
   "cell_type": "code",
   "execution_count": 5,
   "id": "1def20b8-dd8e-4714-bd32-806606b799be",
   "metadata": {},
   "outputs": [
    {
     "data": {
      "text/html": [
       "<div>\n",
       "<style scoped>\n",
       "    .dataframe tbody tr th:only-of-type {\n",
       "        vertical-align: middle;\n",
       "    }\n",
       "\n",
       "    .dataframe tbody tr th {\n",
       "        vertical-align: top;\n",
       "    }\n",
       "\n",
       "    .dataframe thead th {\n",
       "        text-align: right;\n",
       "    }\n",
       "</style>\n",
       "<table border=\"1\" class=\"dataframe\">\n",
       "  <thead>\n",
       "    <tr style=\"text-align: right;\">\n",
       "      <th></th>\n",
       "      <th>Kode</th>\n",
       "      <th>Train - Accuracy</th>\n",
       "      <th>Train - Precicion Up Trend</th>\n",
       "      <th>Train - Precicion Down Trend</th>\n",
       "      <th>Train - Recall Up Trend</th>\n",
       "      <th>Train - Recall Down Trend</th>\n",
       "      <th>Train - Gini</th>\n",
       "      <th>Test - Accuracy</th>\n",
       "      <th>Test - Precicion Up Trend</th>\n",
       "      <th>Test - Precicion Down Trend</th>\n",
       "      <th>Test - Recall Up Trend</th>\n",
       "      <th>Test - Recall Down Trend</th>\n",
       "      <th>Test - Gini</th>\n",
       "    </tr>\n",
       "  </thead>\n",
       "  <tbody>\n",
       "    <tr>\n",
       "      <th>0</th>\n",
       "      <td>dummy</td>\n",
       "      <td>0.61063</td>\n",
       "      <td>0.597615</td>\n",
       "      <td>0.673913</td>\n",
       "      <td>0.899103</td>\n",
       "      <td>0.256198</td>\n",
       "      <td>0.324704</td>\n",
       "      <td>0.533333</td>\n",
       "      <td>0.857143</td>\n",
       "      <td>0.434783</td>\n",
       "      <td>0.315789</td>\n",
       "      <td>0.909091</td>\n",
       "      <td>0.263158</td>\n",
       "    </tr>\n",
       "  </tbody>\n",
       "</table>\n",
       "</div>"
      ],
      "text/plain": [
       "    Kode  Train - Accuracy  Train - Precicion Up Trend  \\\n",
       "0  dummy           0.61063                    0.597615   \n",
       "\n",
       "   Train - Precicion Down Trend  Train - Recall Up Trend  \\\n",
       "0                      0.673913                 0.899103   \n",
       "\n",
       "   Train - Recall Down Trend  Train - Gini  Test - Accuracy  \\\n",
       "0                   0.256198      0.324704         0.533333   \n",
       "\n",
       "   Test - Precicion Up Trend  Test - Precicion Down Trend  \\\n",
       "0                   0.857143                     0.434783   \n",
       "\n",
       "   Test - Recall Up Trend  Test - Recall Down Trend  Test - Gini  \n",
       "0                0.315789                  0.909091     0.263158  "
      ]
     },
     "execution_count": 5,
     "metadata": {},
     "output_type": "execute_result"
    }
   ],
   "source": [
    "all_model_performances_15_days"
   ]
  }
 ],
 "metadata": {
  "kernelspec": {
   "display_name": "Python 3 (ipykernel)",
   "language": "python",
   "name": "python3"
  },
  "language_info": {
   "codemirror_mode": {
    "name": "ipython",
    "version": 3
   },
   "file_extension": ".py",
   "mimetype": "text/x-python",
   "name": "python",
   "nbconvert_exporter": "python",
   "pygments_lexer": "ipython3",
   "version": "3.11.7"
  }
 },
 "nbformat": 4,
 "nbformat_minor": 5
}
