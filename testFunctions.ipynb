{
 "cells": [
  {
   "cell_type": "markdown",
   "id": "7bfaee6d-feba-4271-b04d-3136fc43c915",
   "metadata": {},
   "source": [
    "# Import Packages"
   ]
  },
  {
   "cell_type": "code",
   "execution_count": 1,
   "id": "2984e2bf-3800-45cb-981d-4066e621073b",
   "metadata": {},
   "outputs": [
    {
     "ename": "NameError",
     "evalue": "name 'pd' is not defined",
     "output_type": "error",
     "traceback": [
      "\u001b[0;31m---------------------------------------------------------------------------\u001b[0m",
      "\u001b[0;31mNameError\u001b[0m                                 Traceback (most recent call last)",
      "Cell \u001b[0;32mIn[1], line 6\u001b[0m\n\u001b[1;32m      2\u001b[0m simplefilter(\u001b[38;5;124m'\u001b[39m\u001b[38;5;124mignore\u001b[39m\u001b[38;5;124m'\u001b[39m)\n\u001b[1;32m      4\u001b[0m \u001b[38;5;28;01mfrom\u001b[39;00m \u001b[38;5;21;01mperformStockAnalysis\u001b[39;00m\u001b[38;5;21;01m.\u001b[39;00m\u001b[38;5;21;01mmain\u001b[39;00m \u001b[38;5;28;01mimport\u001b[39;00m select_kode_to_model, develop_models_for_selected_kode\n\u001b[0;32m----> 6\u001b[0m \u001b[43mpd\u001b[49m\u001b[38;5;241m.\u001b[39mset_option(\u001b[38;5;124m'\u001b[39m\u001b[38;5;124mdisplay.max_columns\u001b[39m\u001b[38;5;124m'\u001b[39m, \u001b[38;5;241m100\u001b[39m)\n\u001b[1;32m      7\u001b[0m pd\u001b[38;5;241m.\u001b[39mset_option(\u001b[38;5;124m'\u001b[39m\u001b[38;5;124mdisplay.max_rows\u001b[39m\u001b[38;5;124m'\u001b[39m, \u001b[38;5;241m50\u001b[39m)\n",
      "\u001b[0;31mNameError\u001b[0m: name 'pd' is not defined"
     ]
    }
   ],
   "source": [
    "from warnings import simplefilter\n",
    "simplefilter('ignore')\n",
    "\n",
    "from performStockAnalysis.main import select_kode_to_model, develop_models_for_selected_kode\n",
    "\n",
    "pd.set_option('display.max_columns', 100)\n",
    "pd.set_option('display.max_rows', 50)"
   ]
  },
  {
   "cell_type": "code",
   "execution_count": null,
   "id": "337e6166-2fce-44c0-a0a4-1498e7856a02",
   "metadata": {
    "scrolled": true
   },
   "outputs": [],
   "source": [
    "selected_kode = select_kode_to_model(4)"
   ]
  },
  {
   "cell_type": "code",
   "execution_count": null,
   "id": "3b9bdfcd-f915-4642-ae52-d28eb83c1681",
   "metadata": {
    "scrolled": true
   },
   "outputs": [],
   "source": [
    "all_model_performances_10_days, all_model_performances_15_days = develop_models_for_selected_kode(selected_kode)"
   ]
  },
  {
   "cell_type": "code",
   "execution_count": null,
   "id": "4488ca82-355a-4e64-bd49-659feb281c7d",
   "metadata": {},
   "outputs": [],
   "source": [
    "all_model_performances_10_days"
   ]
  },
  {
   "cell_type": "code",
   "execution_count": null,
   "id": "1def20b8-dd8e-4714-bd32-806606b799be",
   "metadata": {},
   "outputs": [],
   "source": [
    "all_model_performances_15_days"
   ]
  },
  {
   "cell_type": "code",
   "execution_count": null,
   "id": "86901401-3e65-422a-b7ba-46f085b0bb00",
   "metadata": {},
   "outputs": [],
   "source": []
  }
 ],
 "metadata": {
  "kernelspec": {
   "display_name": "Python 3 (ipykernel)",
   "language": "python",
   "name": "python3"
  },
  "language_info": {
   "codemirror_mode": {
    "name": "ipython",
    "version": 3
   },
   "file_extension": ".py",
   "mimetype": "text/x-python",
   "name": "python",
   "nbconvert_exporter": "python",
   "pygments_lexer": "ipython3",
   "version": "3.11.7"
  }
 },
 "nbformat": 4,
 "nbformat_minor": 5
}
