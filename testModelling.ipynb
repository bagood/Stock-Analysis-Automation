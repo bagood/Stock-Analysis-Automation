{
 "cells": [
  {
   "cell_type": "code",
   "execution_count": 1,
   "id": "68555dc3-d806-446b-9438-9f3136c4af07",
   "metadata": {},
   "outputs": [],
   "source": [
    "import pandas as pd\n",
    "\n",
    "from warnings import simplefilter\n",
    "simplefilter('ignore')\n",
    "\n",
    "pd.set_option('display.max_rows', 10)\n",
    "pd.set_option('display.max_columns', 100)"
   ]
  },
  {
   "cell_type": "code",
   "execution_count": 2,
   "id": "e40bdd6d-2c59-427d-9c6c-b82d90059b3c",
   "metadata": {},
   "outputs": [],
   "source": [
    "from performStockAnalysis.main import select_kode_to_model, develop_models_for_selected_kode, make_forecasts_using_the_developed_models"
   ]
  },
  {
   "cell_type": "code",
   "execution_count": null,
   "id": "97b5737b-e9c5-4d63-aa71-92ff7e61e337",
   "metadata": {
    "scrolled": true
   },
   "outputs": [],
   "source": [
    "selected_kode = select_kode_to_model(4)"
   ]
  },
  {
   "cell_type": "code",
   "execution_count": null,
   "id": "315a00ed-f6d0-4ec6-82be-eed749c0486f",
   "metadata": {
    "scrolled": true
   },
   "outputs": [],
   "source": [
    "develop_models_for_selected_kode(selected_kode)"
   ]
  },
  {
   "cell_type": "code",
   "execution_count": 3,
   "id": "d9d7fe17-ac5e-4db1-978b-654acc565367",
   "metadata": {},
   "outputs": [
    {
     "name": "stderr",
     "output_type": "stream",
     "text": [
      "2025-08-26 21:48:03 - INFO - Starting the Process of 10 Days Forecasting\n",
      "2025-08-26 21:48:03 - INFO - Loading the data from database/modelPerformances/modelPerformance-10dd-20250826.csv\n",
      "2025-08-26 21:48:03 - INFO - Select stock with the model performance on testing data that is greater than 0\n",
      "2025-08-26 21:48:03 - INFO - Selected a total of 1 stocks that exceed the minimum model performance\n",
      "2025-08-26 21:48:03 - INFO - Prepare all stock data to be used for forecasting\n",
      "2025-08-26 21:48:03 - INFO - Starting Data Preparation Pipeline for 1 Tickers\n",
      "2025-08-26 21:48:03 - INFO - Downloading stock data for ticker ABBA.JK\n",
      "2025-08-26 21:48:03 - INFO - Generating technical indicators as features\n",
      "2025-08-26 21:48:03 - INFO - Processing the data into a format that is compatible for generating the stock indicators\n",
      "2025-08-26 21:48:04 - INFO - Generating stock indicators of price trends\n",
      "2025-08-26 21:48:05 - INFO - Generating stock indicators of price channels\n",
      "2025-08-26 21:48:10 - INFO - Generating stock indicators of oscillators\n",
      "2025-08-26 21:48:10 - INFO - Generating stock indicators of volume based\n",
      "2025-08-26 21:48:14 - INFO - Generating stock indicators of price transformations\n",
      "2025-08-26 21:48:16 - INFO - Successfully generated all stock indicators\n",
      "2025-08-26 21:48:16 - INFO - Acquired 52 features for the stock data\n",
      "2025-08-26 21:48:16 - INFO - Saving all newly generated features into modelDevelopment/technical_indicator_features.txt\n",
      "2025-08-26 21:48:16 - INFO - Dropping all rows without any NaN values to create a clean forecasting dataset\n",
      "2025-08-26 21:48:16 - INFO - Succesfully Prepare the Forecasting Data\n",
      "2025-08-26 21:48:16 - INFO - Loading feature names from 'modelDevelopment/technical_indicator_features.txt'\n",
      "2025-08-26 21:48:16 - INFO - Loaded 52 features\n",
      "2025-08-26 21:48:16 - INFO - Loading the developed models for 1 stocks\n",
      "2025-08-26 21:48:16 - INFO - Sucessfully load 1 out of 1 models\n",
      "2025-08-26 21:48:16 - INFO - Starting the forecasting using the loaded models on the prepared forecasting data\n",
      "2025-08-26 21:48:16 - INFO - Saving the forecast data to database/forecastedStocks/forecast-10dd-20250826.csv\n",
      "2025-08-26 21:48:16 - INFO - Finished the Process of 10 Days Forecasting\n"
     ]
    }
   ],
   "source": [
    "make_forecasts_using_the_developed_models(10, '20250826', 0)"
   ]
  },
  {
   "cell_type": "code",
   "execution_count": 4,
   "id": "d255c1de-02f1-4efa-856c-c8e6ce59d3cb",
   "metadata": {},
   "outputs": [
    {
     "data": {
      "text/html": [
       "<div>\n",
       "<style scoped>\n",
       "    .dataframe tbody tr th:only-of-type {\n",
       "        vertical-align: middle;\n",
       "    }\n",
       "\n",
       "    .dataframe tbody tr th {\n",
       "        vertical-align: top;\n",
       "    }\n",
       "\n",
       "    .dataframe thead th {\n",
       "        text-align: right;\n",
       "    }\n",
       "</style>\n",
       "<table border=\"1\" class=\"dataframe\">\n",
       "  <thead>\n",
       "    <tr style=\"text-align: right;\">\n",
       "      <th></th>\n",
       "      <th>Kode</th>\n",
       "      <th>Date</th>\n",
       "      <th>Open</th>\n",
       "      <th>High</th>\n",
       "      <th>Low</th>\n",
       "      <th>Close</th>\n",
       "      <th>Volume</th>\n",
       "      <th>Forecast - Upcoming 10 Days Trend</th>\n",
       "    </tr>\n",
       "  </thead>\n",
       "  <tbody>\n",
       "    <tr>\n",
       "      <th>0</th>\n",
       "      <td>ABBA</td>\n",
       "      <td>2025-08-26</td>\n",
       "      <td>42.0</td>\n",
       "      <td>44.0</td>\n",
       "      <td>42.0</td>\n",
       "      <td>44.0</td>\n",
       "      <td>2089600</td>\n",
       "      <td>Down Trend</td>\n",
       "    </tr>\n",
       "  </tbody>\n",
       "</table>\n",
       "</div>"
      ],
      "text/plain": [
       "   Kode        Date  Open  High   Low  Close   Volume  \\\n",
       "0  ABBA  2025-08-26  42.0  44.0  42.0   44.0  2089600   \n",
       "\n",
       "  Forecast - Upcoming 10 Days Trend  \n",
       "0                        Down Trend  "
      ]
     },
     "execution_count": 4,
     "metadata": {},
     "output_type": "execute_result"
    }
   ],
   "source": [
    "pd.read_csv('database/forecastedStocks/forecast-10dd-20250826.csv')"
   ]
  },
  {
   "cell_type": "code",
   "execution_count": null,
   "id": "729904c5-b5a8-47c7-8630-2c5e8ed7c81e",
   "metadata": {},
   "outputs": [],
   "source": []
  }
 ],
 "metadata": {
  "kernelspec": {
   "display_name": "Python 3 (ipykernel)",
   "language": "python",
   "name": "python3"
  },
  "language_info": {
   "codemirror_mode": {
    "name": "ipython",
    "version": 3
   },
   "file_extension": ".py",
   "mimetype": "text/x-python",
   "name": "python",
   "nbconvert_exporter": "python",
   "pygments_lexer": "ipython3",
   "version": "3.10.15"
  }
 },
 "nbformat": 4,
 "nbformat_minor": 5
}
