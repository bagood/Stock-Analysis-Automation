{
 "cells": [
  {
   "cell_type": "code",
   "execution_count": 1,
   "id": "68555dc3-d806-446b-9438-9f3136c4af07",
   "metadata": {},
   "outputs": [],
   "source": [
    "import pandas as pd\n",
    "\n",
    "from warnings import simplefilter\n",
    "simplefilter('ignore')\n",
    "\n",
    "pd.set_option('display.max_rows', 10)\n",
    "pd.set_option('display.max_columns', 100)"
   ]
  },
  {
   "cell_type": "code",
   "execution_count": 2,
   "id": "e40bdd6d-2c59-427d-9c6c-b82d90059b3c",
   "metadata": {},
   "outputs": [],
   "source": [
    "from performStockAnalysis.main import select_kode_to_model, develop_models_for_selected_kode, make_forecasts_using_the_developed_models"
   ]
  },
  {
   "cell_type": "code",
   "execution_count": 3,
   "id": "97b5737b-e9c5-4d63-aa71-92ff7e61e337",
   "metadata": {
    "scrolled": true
   },
   "outputs": [
    {
     "name": "stderr",
     "output_type": "stream",
     "text": [
      "2025-08-19 20:17:00 - INFO - Starting stock selection process based on recent trading volume\n",
      "2025-08-19 20:17:01 - INFO - Loaded a limited list of 6 stocks\n",
      "2025-08-19 20:17:01 - INFO - Fetching volume data for 6 stocks from 2025-07-05 to today\n",
      "2025-08-19 20:17:01 - INFO - (1/6) Fetching volume for ticker: AALI\n",
      "2025-08-19 20:17:01 - INFO - (2/6) Fetching volume for ticker: ABBA\n",
      "2025-08-19 20:17:01 - INFO - (3/6) Fetching volume for ticker: ABDA\n",
      "2025-08-19 20:17:01 - INFO - (4/6) Fetching volume for ticker: ABMM\n",
      "2025-08-19 20:17:01 - INFO - (5/6) Fetching volume for ticker: ACES\n",
      "2025-08-19 20:17:02 - INFO - (6/6) Fetching volume for ticker: ACST\n",
      "2025-08-19 20:17:02 - INFO - Calculated selection threshold. Selecting top 3 most traded stocks\n",
      "2025-08-19 20:17:02 - INFO - Stock selection complete. Selected tickers: ['ACES', 'ACST', 'AALI']\n"
     ]
    }
   ],
   "source": [
    "selected_kode = select_kode_to_model(6)"
   ]
  },
  {
   "cell_type": "code",
   "execution_count": null,
   "id": "315a00ed-f6d0-4ec6-82be-eed749c0486f",
   "metadata": {
    "scrolled": true
   },
   "outputs": [
    {
     "name": "stderr",
     "output_type": "stream",
     "text": [
      "2025-08-19 20:17:02 - INFO - Starting Bulk Model Development for 3 Selected Stocks\n",
      "2025-08-19 20:17:02 - INFO - Processing Ticker: ACES (1/3)\n",
      "2025-08-19 20:17:02 - INFO - Preparing data for ACES with 10 and 15-day trend targets\n",
      "2025-08-19 20:17:02 - INFO - Starting Data Preparation Pipeline for Ticker: ACES\n",
      "2025-08-19 20:17:02 - INFO - Downloading stock data for ticker ACES.JK\n",
      "2025-08-19 20:17:02 - INFO - Generating technical indicators as features\n",
      "2025-08-19 20:17:02 - INFO - Processing the data into a format that is compatible for generating the stock indicators\n",
      "2025-08-19 20:17:03 - INFO - Generating stock indicators of price trends\n",
      "2025-08-19 20:17:03 - INFO - Generating stock indicators of price channels\n",
      "2025-08-19 20:17:03 - INFO - Generating stock indicators of oscillators\n",
      "2025-08-19 20:17:03 - INFO - Generating stock indicators of volume based\n",
      "2025-08-19 20:17:04 - INFO - Generating stock indicators of price transformations\n",
      "2025-08-19 20:17:04 - INFO - Successfullu generated all stock indicators\n",
      "2025-08-19 20:17:04 - INFO - Acquired 39 features for the stock data\n",
      "2025-08-19 20:17:04 - INFO - Saving all newly generated features into modelDevelopment/technical_indicator_features.txt\n",
      "2025-08-19 20:17:04 - INFO - Generating upcoming 10 trend labels as target variables\n",
      "2025-08-19 20:17:04 - INFO - Generating upcoming 15 trend labels as target variables\n",
      "2025-08-19 20:17:04 - INFO - Dropping rows containing missing target variables\n",
      "2025-08-19 20:17:04 - INFO - Succesfully Executed the Data Preparation Pipeline for ACES\n",
      "2025-08-19 20:17:04 - INFO - Developing model for 'ACES' - 10 Day Trend\n",
      "2025-08-19 20:17:04 - INFO - Starting Model Development for Target: 'Upcoming 10 Days Trend'\n",
      "2025-08-19 20:17:04 - INFO - Loading feature names from 'modelDevelopment/technical_indicator_features.txt'.\n",
      "2025-08-19 20:17:04 - INFO - Splitting data into training, validation, testing, and forecast sets.\n",
      "2025-08-19 20:17:04 - INFO - Training set size: 1068, Test set size: 30.\n",
      "2025-08-19 20:17:04 - INFO - Succesfully splitted both training and testing data into its corresponding feature and target data\n",
      "2025-08-19 20:17:04 - INFO - Sucessfully created PredefinedSplit for time-series cross-validation.\n",
      "2025-08-19 20:17:04 - INFO - Initializing CatBoost model and starting hyperparameter tuning with BayesSearchCV\n",
      "2025-08-19 20:17:04 - INFO - Hyperparameter search space defined: {'depth': Integer(low=1, high=5, prior='uniform', transform='identity'), 'learning_rate': Real(low=0.01, high=0.1, prior='log-uniform', transform='identity'), 'iterations': Integer(low=150, high=300, prior='uniform', transform='identity'), 'l2_leaf_reg': Real(low=0.5, high=3.0, prior='uniform', transform='identity')}\n",
      "2025-08-19 20:17:04 - INFO - Using 'roc_auc' as the scoring metric for hyperparameter tuning.\n",
      "2025-08-19 20:17:04 - INFO - Fitting BayesSearchCV... This may take some time.\n",
      "2025-08-19 20:17:36 - INFO - Hyperparameter tuning complete.\n",
      "2025-08-19 20:17:36 - INFO - Best parameters found: OrderedDict([('depth', 2), ('iterations', 300), ('l2_leaf_reg', 1.897264126392168), ('learning_rate', 0.026767177046678997)])\n",
      "2025-08-19 20:17:36 - INFO - Best cross-validated roc_auc: 0.7919\n",
      "2025-08-19 20:17:36 - INFO - Measuring model performance for training data\n",
      "2025-08-19 20:17:36 - INFO - Evaluating model performance on the Training set.\n",
      "2025-08-19 20:17:36 - INFO - Training Set Performance - Accuracy: 0.8212, Gini: 0.7769, Up Trend Precision: 0.8526, Down Trend Precision: 0.8018\n",
      "2025-08-19 20:17:36 - INFO - Measuring model performance for testing data\n",
      "2025-08-19 20:17:36 - INFO - Evaluating model performance on the Testing set.\n",
      "2025-08-19 20:17:36 - INFO - Testing Set Performance - Accuracy: 0.4000, Gini: -0.0278, Up Trend Precision: 0.0000, Down Trend Precision: 0.4000\n",
      "2025-08-19 20:17:36 - INFO - Model has not yet met the desired performance, retrying the model development procedures\n",
      "2025-08-19 20:17:36 - INFO - Initializing CatBoost model and starting hyperparameter tuning with BayesSearchCV\n",
      "2025-08-19 20:17:36 - INFO - Hyperparameter search space defined: {'depth': Integer(low=1, high=5, prior='uniform', transform='identity'), 'learning_rate': Real(low=0.01, high=0.1, prior='log-uniform', transform='identity'), 'iterations': Integer(low=150, high=300, prior='uniform', transform='identity'), 'l2_leaf_reg': Real(low=0.5, high=3.0, prior='uniform', transform='identity')}\n",
      "2025-08-19 20:17:36 - INFO - Using 'roc_auc' as the scoring metric for hyperparameter tuning.\n",
      "2025-08-19 20:17:36 - INFO - Fitting BayesSearchCV... This may take some time.\n",
      "2025-08-19 20:17:58 - INFO - Hyperparameter tuning complete.\n",
      "2025-08-19 20:17:58 - INFO - Best parameters found: OrderedDict([('depth', 5), ('iterations', 265), ('l2_leaf_reg', 0.5), ('learning_rate', 0.1)])\n",
      "2025-08-19 20:17:58 - INFO - Best cross-validated roc_auc: 0.7873\n",
      "2025-08-19 20:17:58 - INFO - Measuring model performance for training data\n",
      "2025-08-19 20:17:58 - INFO - Evaluating model performance on the Training set.\n",
      "2025-08-19 20:17:58 - INFO - Training Set Performance - Accuracy: 1.0000, Gini: 1.0000, Up Trend Precision: 1.0000, Down Trend Precision: 1.0000\n",
      "2025-08-19 20:17:58 - INFO - Measuring model performance for testing data\n",
      "2025-08-19 20:17:58 - INFO - Evaluating model performance on the Testing set.\n",
      "2025-08-19 20:17:58 - INFO - Testing Set Performance - Accuracy: 0.4000, Gini: 0.0370, Up Trend Precision: 0.5000, Down Trend Precision: 0.3750\n",
      "2025-08-19 20:17:58 - INFO - Model has not yet met the desired performance, retrying the model development procedures\n",
      "2025-08-19 20:17:58 - INFO - Initializing CatBoost model and starting hyperparameter tuning with BayesSearchCV\n",
      "2025-08-19 20:17:58 - INFO - Hyperparameter search space defined: {'depth': Integer(low=1, high=5, prior='uniform', transform='identity'), 'learning_rate': Real(low=0.01, high=0.1, prior='log-uniform', transform='identity'), 'iterations': Integer(low=150, high=300, prior='uniform', transform='identity'), 'l2_leaf_reg': Real(low=0.5, high=3.0, prior='uniform', transform='identity')}\n",
      "2025-08-19 20:17:58 - INFO - Using 'roc_auc' as the scoring metric for hyperparameter tuning.\n",
      "2025-08-19 20:17:58 - INFO - Fitting BayesSearchCV... This may take some time.\n",
      "2025-08-19 20:18:18 - INFO - Hyperparameter tuning complete.\n",
      "2025-08-19 20:18:18 - INFO - Best parameters found: OrderedDict([('depth', 1), ('iterations', 189), ('l2_leaf_reg', 3.0), ('learning_rate', 0.1)])\n",
      "2025-08-19 20:18:18 - INFO - Best cross-validated roc_auc: 0.7941\n",
      "2025-08-19 20:18:18 - INFO - Measuring model performance for training data\n",
      "2025-08-19 20:18:18 - INFO - Evaluating model performance on the Training set.\n",
      "2025-08-19 20:18:18 - INFO - Training Set Performance - Accuracy: 0.7575, Gini: 0.6901, Up Trend Precision: 0.7920, Down Trend Precision: 0.7388\n",
      "2025-08-19 20:18:18 - INFO - Measuring model performance for testing data\n",
      "2025-08-19 20:18:18 - INFO - Evaluating model performance on the Testing set.\n",
      "2025-08-19 20:18:18 - INFO - Testing Set Performance - Accuracy: 0.4000, Gini: 0.5694, Up Trend Precision: 0.0000, Down Trend Precision: 0.4000\n",
      "2025-08-19 20:18:18 - INFO - Model has not yet met the desired performance, stopping the model development procedures\n",
      "2025-08-19 20:18:18 - INFO - Model Development for 'Upcoming 10 Days Trend' Finished Successfully\n",
      "2025-08-19 20:18:18 - INFO - Developing model for 'ACES' - 15 Day Trend\n",
      "2025-08-19 20:18:18 - INFO - Starting Model Development for Target: 'Upcoming 15 Days Trend'\n",
      "2025-08-19 20:18:18 - INFO - Loading feature names from 'modelDevelopment/technical_indicator_features.txt'.\n",
      "2025-08-19 20:18:18 - INFO - Splitting data into training, validation, testing, and forecast sets.\n",
      "2025-08-19 20:18:18 - INFO - Training set size: 1068, Test set size: 30.\n",
      "2025-08-19 20:18:18 - INFO - Succesfully splitted both training and testing data into its corresponding feature and target data\n",
      "2025-08-19 20:18:18 - INFO - Sucessfully created PredefinedSplit for time-series cross-validation.\n",
      "2025-08-19 20:18:18 - INFO - Initializing CatBoost model and starting hyperparameter tuning with BayesSearchCV\n",
      "2025-08-19 20:18:18 - INFO - Hyperparameter search space defined: {'depth': Integer(low=1, high=5, prior='uniform', transform='identity'), 'learning_rate': Real(low=0.01, high=0.1, prior='log-uniform', transform='identity'), 'iterations': Integer(low=150, high=300, prior='uniform', transform='identity'), 'l2_leaf_reg': Real(low=0.5, high=3.0, prior='uniform', transform='identity')}\n",
      "2025-08-19 20:18:18 - INFO - Using 'roc_auc' as the scoring metric for hyperparameter tuning.\n",
      "2025-08-19 20:18:18 - INFO - Fitting BayesSearchCV... This may take some time.\n",
      "2025-08-19 20:18:41 - INFO - Hyperparameter tuning complete.\n",
      "2025-08-19 20:18:41 - INFO - Best parameters found: OrderedDict([('depth', 5), ('iterations', 169), ('l2_leaf_reg', 2.25771038227135), ('learning_rate', 0.08050897304885865)])\n",
      "2025-08-19 20:18:41 - INFO - Best cross-validated roc_auc: 0.9333\n",
      "2025-08-19 20:18:41 - INFO - Measuring model performance for training data\n",
      "2025-08-19 20:18:41 - INFO - Evaluating model performance on the Training set.\n",
      "2025-08-19 20:18:41 - INFO - Training Set Performance - Accuracy: 0.9888, Gini: 0.9989, Up Trend Precision: 0.9913, Down Trend Precision: 0.9868\n",
      "2025-08-19 20:18:41 - INFO - Measuring model performance for testing data\n",
      "2025-08-19 20:18:41 - INFO - Evaluating model performance on the Testing set.\n",
      "2025-08-19 20:18:41 - INFO - Testing Set Performance - Accuracy: 0.6333, Gini: 0.0813, Up Trend Precision: 0.0000, Down Trend Precision: 0.6333\n",
      "2025-08-19 20:18:41 - INFO - Model has not yet met the desired performance, retrying the model development procedures\n",
      "2025-08-19 20:18:41 - INFO - Initializing CatBoost model and starting hyperparameter tuning with BayesSearchCV\n",
      "2025-08-19 20:18:41 - INFO - Hyperparameter search space defined: {'depth': Integer(low=1, high=5, prior='uniform', transform='identity'), 'learning_rate': Real(low=0.01, high=0.1, prior='log-uniform', transform='identity'), 'iterations': Integer(low=150, high=300, prior='uniform', transform='identity'), 'l2_leaf_reg': Real(low=0.5, high=3.0, prior='uniform', transform='identity')}\n",
      "2025-08-19 20:18:41 - INFO - Using 'roc_auc' as the scoring metric for hyperparameter tuning.\n",
      "2025-08-19 20:18:41 - INFO - Fitting BayesSearchCV... This may take some time.\n"
     ]
    }
   ],
   "source": [
    "develop_models_for_selected_kode(selected_kode)"
   ]
  },
  {
   "cell_type": "code",
   "execution_count": null,
   "id": "d9d7fe17-ac5e-4db1-978b-654acc565367",
   "metadata": {},
   "outputs": [],
   "source": [
    "make_forecasts_using_the_developed_models(10, '20250819', 0.2)"
   ]
  },
  {
   "cell_type": "code",
   "execution_count": null,
   "id": "d255c1de-02f1-4efa-856c-c8e6ce59d3cb",
   "metadata": {},
   "outputs": [],
   "source": [
    "pd.read_csv('database/forecastedStocks/forecast-10dd-20250819.csv')"
   ]
  }
 ],
 "metadata": {
  "kernelspec": {
   "display_name": "Python 3 (ipykernel)",
   "language": "python",
   "name": "python3"
  },
  "language_info": {
   "codemirror_mode": {
    "name": "ipython",
    "version": 3
   },
   "file_extension": ".py",
   "mimetype": "text/x-python",
   "name": "python",
   "nbconvert_exporter": "python",
   "pygments_lexer": "ipython3",
   "version": "3.10.15"
  }
 },
 "nbformat": 4,
 "nbformat_minor": 5
}
