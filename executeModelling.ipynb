{
 "cells": [
  {
   "cell_type": "code",
   "execution_count": 1,
   "id": "68555dc3-d806-446b-9438-9f3136c4af07",
   "metadata": {},
   "outputs": [],
   "source": [
    "import numpy as np\n",
    "import pandas as pd\n",
    "\n",
    "from warnings import simplefilter\n",
    "simplefilter('ignore')\n",
    "\n",
    "pd.set_option('display.max_rows', 10)\n",
    "pd.set_option('display.max_columns', 20)"
   ]
  },
  {
   "cell_type": "code",
   "execution_count": 2,
   "id": "e40bdd6d-2c59-427d-9c6c-b82d90059b3c",
   "metadata": {},
   "outputs": [],
   "source": [
    "from performStockAnalysis.main import select_emiten_to_model, develop_models_for_selected_emiten, forecast_using_the_developed_models"
   ]
  },
  {
   "cell_type": "code",
   "execution_count": 3,
   "id": "97b5737b-e9c5-4d63-aa71-92ff7e61e337",
   "metadata": {
    "scrolled": true
   },
   "outputs": [],
   "source": [
    "# selected_emiten = select_emiten_to_model()"
   ]
  },
  {
   "cell_type": "code",
   "execution_count": 5,
   "id": "2daa4baa-76af-46e9-a3e0-e2134b90122a",
   "metadata": {
    "scrolled": true
   },
   "outputs": [
    {
     "name": "stderr",
     "output_type": "stream",
     "text": [
      "2025-10-31 07:40:30 - INFO - ===== Starting Model Development for 1 Selected Emitens =====\n",
      "2025-10-31 07:40:30 - INFO - Processing Emiten: BBCA (1/1)\n",
      "2025-10-31 07:40:30 - INFO - ----- Starting Data Preparation Pipeline for Emiten BBCA -----\n",
      "2025-10-31 07:40:30 - INFO - Downloading the stock data\n",
      "2025-10-31 07:40:30 - INFO - Generating technical indicators as features\n",
      "2025-10-31 07:40:30 - INFO - Processing the data into a format that is compatible for generating the stock indicators\n",
      "2025-10-31 07:40:30 - INFO - Generating stock indicators of price trends\n",
      "2025-10-31 07:40:31 - INFO - Generating stock indicators of price channels\n",
      "2025-10-31 07:40:32 - INFO - Generating stock indicators of oscillators\n",
      "2025-10-31 07:40:32 - INFO - Generating stock indicators of volume based\n",
      "2025-10-31 07:40:34 - INFO - Generating stock indicators of price transformations\n",
      "2025-10-31 07:40:35 - INFO - Successfully generated all stock indicators\n",
      "2025-10-31 07:40:35 - INFO - Acquired 52 features for the stock data\n",
      "2025-10-31 07:40:35 - INFO - Saving all newly generated features into database/stocksInformation/technical_indicator_features.txt\n",
      "2025-10-31 07:40:35 - INFO - Generating 10ddand 15dd median gain as target variables\n",
      "2025-10-31 07:40:35 - INFO - ----- Succesfully Executed the Data Preparation Pipeline for Emiten BBCA -----\n",
      "2025-10-31 07:40:35 - INFO - Developing the 10 day rolling window model for BBCA\n",
      "2025-10-31 07:40:35 - INFO - ----- Starting Model Development for Target: 'Median Gain 10dd' -----\n",
      "2025-10-31 07:40:35 - INFO - Loading stock's technical indicators as features\n",
      "2025-10-31 07:40:35 - INFO - Splitting data into training, validation, testing, and forecast sets\n",
      "2025-10-31 07:40:35 - INFO - Initializing CatBoost model and starting hyperparameter tuning with BayesSearchCV\n",
      "2025-10-31 07:40:55 - INFO - Measuring model performance for training data\n",
      "2025-10-31 07:40:55 - INFO - Training set performance summary - Gini: 0.9499\n",
      "2025-10-31 07:40:55 - INFO - Measuring model performance for testing data\n",
      "2025-10-31 07:40:55 - INFO - Testing set performance summary - Gini: 0.8368\n",
      "2025-10-31 07:40:55 - INFO - ----- Model Development for 'Median Gain 10dd' Finished Successfully -----\n",
      "2025-10-31 07:40:55 - INFO - Saving the developed 10 day rolling window model for BBCA\n",
      "2025-10-31 07:40:55 - INFO - Saving the developed 10 day rolling window model's performance for BBCA\n",
      "2025-10-31 07:40:55 - INFO - Developing the 15 day rolling window model for BBCA\n",
      "2025-10-31 07:40:55 - INFO - ----- Starting Model Development for Target: 'Median Gain 15dd' -----\n",
      "2025-10-31 07:40:55 - INFO - Loading stock's technical indicators as features\n",
      "2025-10-31 07:40:55 - INFO - Splitting data into training, validation, testing, and forecast sets\n",
      "2025-10-31 07:40:55 - INFO - Initializing CatBoost model and starting hyperparameter tuning with BayesSearchCV\n",
      "2025-10-31 07:41:10 - INFO - Measuring model performance for training data\n",
      "2025-10-31 07:41:10 - INFO - Training set performance summary - Gini: 0.9874\n",
      "2025-10-31 07:41:10 - INFO - Measuring model performance for testing data\n",
      "2025-10-31 07:41:10 - INFO - Testing set performance summary - Gini: 0.7825\n",
      "2025-10-31 07:41:10 - INFO - ----- Model Development for 'Median Gain 15dd' Finished Successfully -----\n",
      "2025-10-31 07:41:10 - INFO - Saving the developed 15 day rolling window model for BBCA\n",
      "2025-10-31 07:41:10 - INFO - Saving the developed 15 day rolling window model's performance for BBCA\n",
      "2025-10-31 07:41:10 - INFO - Finished processing for Emiten: BBCA\n",
      "2025-10-31 07:41:10 - INFO - Saving stocks that are failed being processed to 'database/modelPerformances/medianGain/failedStocks-20251031.txt'...\n",
      "2025-10-31 07:41:10 - INFO - List of failed stocks saved successfully\n",
      "2025-10-31 07:41:10 - INFO - ===== Finished Model Development for 1 Selected Emitens =====\n"
     ]
    }
   ],
   "source": [
    "develop_models_for_selected_emiten(['BBCA'], 'median_gain', [10, 15])"
   ]
  },
  {
   "cell_type": "code",
   "execution_count": null,
   "id": "5702c234-01a4-4c27-a6c7-8a6e80de9370",
   "metadata": {},
   "outputs": [],
   "source": [
    "performance_10dd = pd.read_csv('database/modelPerformances/medianGain/10dd-20251031.csv') \\\n",
    "                        .dropna() \\\n",
    "                        .reset_index(drop=True) \\\n",
    "                        .sort_values('Threshold', ascending=False)\n",
    "\n",
    "performance_15dd = pd.read_csv('database/modelPerformances/medianGain/15dd-20251031.csv') \\\n",
    "                        .dropna() \\\n",
    "                        .reset_index(drop=True) \\\n",
    "                        .sort_values('Threshold', ascending=False)"
   ]
  },
  {
   "cell_type": "code",
   "execution_count": null,
   "id": "2f52fde8-c352-47da-8e68-f9534e6c34b0",
   "metadata": {},
   "outputs": [],
   "source": [
    "performance_10dd.describe()"
   ]
  },
  {
   "cell_type": "code",
   "execution_count": null,
   "id": "7767f7d0-d0c6-4ddf-86c5-7f66202f75f3",
   "metadata": {},
   "outputs": [],
   "source": [
    "performance_15dd.describe()"
   ]
  },
  {
   "cell_type": "code",
   "execution_count": null,
   "id": "b0b36488-22c9-405e-9034-292b4fd57d80",
   "metadata": {
    "scrolled": true
   },
   "outputs": [],
   "source": [
    "forecast_using_the_developed_models(10, 'medianGain', '20251031', 0.5)"
   ]
  },
  {
   "cell_type": "code",
   "execution_count": null,
   "id": "aca74e85-6c0d-4bf0-8855-1cbf38b6070a",
   "metadata": {
    "scrolled": true
   },
   "outputs": [],
   "source": [
    "forecast_using_the_developed_models(15, 'median_gain', '20251031', 0.5)"
   ]
  },
  {
   "cell_type": "code",
   "execution_count": null,
   "id": "b241a07f-c993-464b-a1ec-79b244ee1775",
   "metadata": {},
   "outputs": [],
   "source": [
    "forecast_10_dd = pd.read_csv('database/forecastedStocks/medianGain/forecast-10dd-20251031.csv')\n",
    "forecast_15_dd = pd.read_csv('database/forecastedStocks/medianGain/forecast-15dd-20251031.csv')"
   ]
  },
  {
   "cell_type": "code",
   "execution_count": null,
   "id": "9fdd1ea8-bdc8-4bc1-a177-b38f35044b9c",
   "metadata": {},
   "outputs": [],
   "source": [
    "merged_forecast = pd.merge(performance_10dd, forecast_10_dd, on='Kode').sort_values('Forecast High Gain 10dd', ascending=False)"
   ]
  },
  {
   "cell_type": "code",
   "execution_count": null,
   "id": "b9d00f5a-74bc-4c8a-af98-0ac46c9b0503",
   "metadata": {},
   "outputs": [],
   "source": [
    "merged_forecast"
   ]
  }
 ],
 "metadata": {
  "kernelspec": {
   "display_name": "Python 3 (ipykernel)",
   "language": "python",
   "name": "python3"
  },
  "language_info": {
   "codemirror_mode": {
    "name": "ipython",
    "version": 3
   },
   "file_extension": ".py",
   "mimetype": "text/x-python",
   "name": "python",
   "nbconvert_exporter": "python",
   "pygments_lexer": "ipython3",
   "version": "3.11.2"
  }
 },
 "nbformat": 4,
 "nbformat_minor": 5
}
