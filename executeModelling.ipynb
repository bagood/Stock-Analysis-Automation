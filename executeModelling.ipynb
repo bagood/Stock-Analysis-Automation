{
 "cells": [
  {
   "cell_type": "code",
   "execution_count": 2,
   "id": "68555dc3-d806-446b-9438-9f3136c4af07",
   "metadata": {},
   "outputs": [],
   "source": [
    "import numpy as np\n",
    "import pandas as pd\n",
    "\n",
    "from warnings import simplefilter\n",
    "simplefilter('ignore')\n",
    "\n",
    "pd.set_option('display.max_rows', 10)\n",
    "pd.set_option('display.max_columns', 100)"
   ]
  },
  {
   "cell_type": "code",
   "execution_count": 3,
   "id": "e40bdd6d-2c59-427d-9c6c-b82d90059b3c",
   "metadata": {},
   "outputs": [],
   "source": [
    "from performStockAnalysis.main import select_emiten_to_model, develop_models_for_selected_emiten, forecast_using_the_developed_models"
   ]
  },
  {
   "cell_type": "code",
   "execution_count": null,
   "id": "97b5737b-e9c5-4d63-aa71-92ff7e61e337",
   "metadata": {
    "scrolled": true
   },
   "outputs": [],
   "source": [
    "selected_emiten = select_emiten_to_model()"
   ]
  },
  {
   "cell_type": "code",
   "execution_count": 3,
   "id": "2daa4baa-76af-46e9-a3e0-e2134b90122a",
   "metadata": {
    "scrolled": true
   },
   "outputs": [
    {
     "name": "stderr",
     "output_type": "stream",
     "text": [
      "2025-10-31 23:28:20 - INFO - ===== Starting Model Development for 1 Selected Emitens =====\n",
      "2025-10-31 23:28:20 - INFO - Processing Emiten: BBCA (1/1)\n",
      "2025-10-31 23:28:20 - INFO - ----- Starting Data Preparation Pipeline for Emiten BBCA -----\n",
      "2025-10-31 23:28:20 - INFO - Downloading the stock data\n",
      "2025-10-31 23:28:20 - INFO - Generating technical indicators as features\n",
      "2025-10-31 23:28:20 - INFO - Processing the data into a format that is compatible for generating the stock indicators\n",
      "2025-10-31 23:28:20 - INFO - Generating stock indicators of price trends\n",
      "2025-10-31 23:28:21 - INFO - Generating stock indicators of price channels\n",
      "2025-10-31 23:28:23 - INFO - Generating stock indicators of oscillators\n",
      "2025-10-31 23:28:23 - INFO - Generating stock indicators of volume based\n",
      "2025-10-31 23:28:24 - INFO - Generating stock indicators of price transformations\n",
      "2025-10-31 23:28:25 - INFO - Successfully generated all stock indicators\n",
      "2025-10-31 23:28:25 - INFO - Acquired 52 features for the stock data\n",
      "2025-10-31 23:28:25 - INFO - Saving all newly generated features into database/stocksInformation/technical_indicator_features.txt\n",
      "2025-10-31 23:28:25 - INFO - Generating 15dd for median gain as target variables\n",
      "2025-10-31 23:28:25 - INFO - ----- Succesfully Executed the Data Preparation Pipeline for Emiten BBCA -----\n",
      "2025-10-31 23:28:25 - INFO - Developing the median_gain 15 day rolling window model for BBCA\n",
      "2025-10-31 23:28:25 - INFO - ----- Starting Model Development for Target: 'Median Gain 15dd' -----\n",
      "2025-10-31 23:28:25 - INFO - Loading stock's technical indicators as features\n",
      "2025-10-31 23:28:25 - INFO - Splitting data into training, validation, testing, and forecast sets\n",
      "2025-10-31 23:28:25 - INFO - Initializing CatBoost model and starting hyperparameter tuning with BayesSearchCV\n",
      "2025-10-31 23:28:42 - INFO - Measuring model performance for training data\n",
      "2025-10-31 23:28:42 - INFO - Training set performance summary - Gini: 0.9833\n",
      "2025-10-31 23:28:42 - INFO - Measuring model performance for testing data\n",
      "2025-10-31 23:28:42 - INFO - Testing set performance summary - Gini: 0.7660\n",
      "2025-10-31 23:28:42 - INFO - ----- Model Development for 'Median Gain 15dd' Finished Successfully -----\n",
      "2025-10-31 23:28:42 - INFO - Saving the developed median_gain 15 day rolling window model for BBCA\n",
      "2025-10-31 23:28:42 - INFO - Saving the developed median_gain 15 day rolling window model's performance for BBCA\n",
      "2025-10-31 23:28:42 - INFO - Finished processing for Emiten: BBCA\n",
      "2025-10-31 23:28:42 - INFO - Saving stocks that are failed being processed to 'database/modelPerformances/medianGain/failedStocks-20251031.txt'...\n",
      "2025-10-31 23:28:42 - INFO - List of failed stocks saved successfully\n",
      "2025-10-31 23:28:42 - INFO - ===== Finished Model Development for 1 Selected Emitens =====\n"
     ]
    }
   ],
   "source": [
    "develop_models_for_selected_emiten(['BBCA'], ['median_gain'], [15])"
   ]
  },
  {
   "cell_type": "code",
   "execution_count": null,
   "id": "b0b36488-22c9-405e-9034-292b4fd57d80",
   "metadata": {
    "scrolled": true
   },
   "outputs": [],
   "source": [
    "forecast_using_the_developed_models([10, 15], ['medianGain', 'maxLoss'], '20251031', None)"
   ]
  },
  {
   "cell_type": "code",
   "execution_count": null,
   "id": "b241a07f-c993-464b-a1ec-79b244ee1775",
   "metadata": {},
   "outputs": [],
   "source": [
    "forecast_10_dd = pd.read_csv('database/forecastedStocks/medianGain/forecast-10dd-20251031.csv')\n",
    "forecast_15_dd = pd.read_csv('database/forecastedStocks/medianGain/forecast-15dd-20251031.csv')"
   ]
  },
  {
   "cell_type": "code",
   "execution_count": null,
   "id": "24ad9f98-0e28-45ae-9a2e-5dfa934dc9ff",
   "metadata": {},
   "outputs": [],
   "source": []
  }
 ],
 "metadata": {
  "kernelspec": {
   "display_name": "Python 3 (ipykernel)",
   "language": "python",
   "name": "python3"
  },
  "language_info": {
   "codemirror_mode": {
    "name": "ipython",
    "version": 3
   },
   "file_extension": ".py",
   "mimetype": "text/x-python",
   "name": "python",
   "nbconvert_exporter": "python",
   "pygments_lexer": "ipython3",
   "version": "3.11.2"
  }
 },
 "nbformat": 4,
 "nbformat_minor": 5
}
