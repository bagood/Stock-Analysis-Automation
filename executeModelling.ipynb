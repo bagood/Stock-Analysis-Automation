{
 "cells": [
  {
   "cell_type": "code",
   "execution_count": 1,
   "id": "68555dc3-d806-446b-9438-9f3136c4af07",
   "metadata": {},
   "outputs": [],
   "source": [
    "import numpy as np\n",
    "import pandas as pd\n",
    "\n",
    "from warnings import simplefilter\n",
    "simplefilter('ignore')\n",
    "\n",
    "pd.set_option('display.max_rows', 10)\n",
    "pd.set_option('display.max_columns', 10)"
   ]
  },
  {
   "cell_type": "code",
   "execution_count": 2,
   "id": "e40bdd6d-2c59-427d-9c6c-b82d90059b3c",
   "metadata": {},
   "outputs": [],
   "source": [
    "from performStockAnalysis.main import select_emiten_to_model, develop_models_for_selected_emiten, forecast_using_the_developed_models, develop_models_for_industries"
   ]
  },
  {
   "cell_type": "code",
   "execution_count": 3,
   "id": "97b5737b-e9c5-4d63-aa71-92ff7e61e337",
   "metadata": {
    "scrolled": true
   },
   "outputs": [],
   "source": [
    "# selected_emiten = select_emiten_to_model()"
   ]
  },
  {
   "cell_type": "code",
   "execution_count": 5,
   "id": "2daa4baa-76af-46e9-a3e0-e2134b90122a",
   "metadata": {},
   "outputs": [
    {
     "name": "stderr",
     "output_type": "stream",
     "text": [
      "2025-10-29 14:38:31 - INFO - Starting Bulk Model Development for 3 Selected Stocks\n",
      "2025-10-29 14:38:31 - INFO - Processing Emiten: BBCA (1/3)\n",
      "2025-10-29 14:38:31 - INFO - Preparing data for BBCA\n",
      "2025-10-29 14:38:31 - INFO - Starting Data Preparation Pipeline for Emiten: BBCA\n",
      "2025-10-29 14:38:31 - INFO - Downloading stock data for emiten BBCA.JK\n",
      "2025-10-29 14:38:31 - INFO - Generating technical indicators as features\n",
      "2025-10-29 14:38:31 - INFO - Processing the data into a format that is compatible for generating the stock indicators\n",
      "2025-10-29 14:38:31 - INFO - Generating stock indicators of price trends\n",
      "2025-10-29 14:38:32 - INFO - Generating stock indicators of price channels\n",
      "2025-10-29 14:38:33 - INFO - Generating stock indicators of oscillators\n",
      "2025-10-29 14:38:33 - INFO - Generating stock indicators of volume based\n",
      "2025-10-29 14:38:35 - INFO - Generating stock indicators of price transformations\n",
      "2025-10-29 14:38:35 - INFO - Successfully generated all stock indicators\n",
      "2025-10-29 14:38:35 - INFO - Acquired 52 features for the stock data\n",
      "2025-10-29 14:38:35 - INFO - Saving all newly generated features into modelDevelopment/technical_indicator_features.txt\n",
      "2025-10-29 14:38:35 - INFO - Generating 10ddand 15dd median gain as target variables\n",
      "2025-10-29 14:38:36 - INFO - Succesfully Executed the Data Preparation Pipeline for Emiten BBCA\n",
      "2025-10-29 14:38:36 - INFO - Developing model for 'BBCA' - 10 Day Rolling Window\n",
      "2025-10-29 14:38:36 - INFO - Starting Model Development for Target: 'Median Gain 10dd'\n",
      "2025-10-29 14:38:36 - INFO - Loading feature names from 'modelDevelopment/technical_indicator_features.txt'\n",
      "2025-10-29 14:38:36 - INFO - Splitting data into training, validation, testing, and forecast sets\n",
      "2025-10-29 14:38:36 - INFO - Training set size: 1003, Test set size: 112\n",
      "2025-10-29 14:38:36 - INFO - Succesfully splitted both training and testing data into its corresponding feature and target data\n",
      "2025-10-29 14:38:36 - INFO - Sucessfully created PredefinedSplit for time-series cross-validation\n",
      "2025-10-29 14:38:36 - INFO - Initializing CatBoost model and starting hyperparameter tuning with BayesSearchCV\n",
      "2025-10-29 14:38:36 - INFO - Hyperparameter search space defined: {'depth': Integer(low=1, high=5, prior='uniform', transform='identity'), 'learning_rate': Real(low=0.01, high=0.1, prior='log-uniform', transform='identity'), 'iterations': Integer(low=150, high=300, prior='uniform', transform='identity'), 'l2_leaf_reg': Real(low=0.5, high=3.0, prior='uniform', transform='identity')}\n",
      "2025-10-29 14:38:36 - INFO - Using 'roc_auc' as the scoring metric for hyperparameter tuning\n",
      "2025-10-29 14:38:36 - INFO - Fitting BayesSearchCV... This may take some time\n",
      "2025-10-29 14:38:54 - INFO - Hyperparameter tuning complete\n",
      "2025-10-29 14:38:54 - INFO - Best parameters found: OrderedDict([('depth', 5), ('iterations', 300), ('l2_leaf_reg', 3.0), ('learning_rate', 0.01)])\n",
      "2025-10-29 14:38:54 - INFO - Best cross-validated roc_auc: 0.9427\n",
      "2025-10-29 14:38:54 - INFO - Measuring model performance for training data\n",
      "2025-10-29 14:38:54 - INFO - Evaluating model performance on the Training set\n",
      "2025-10-29 14:38:54 - INFO - Training Set Performance Summary - Gini: 0.9611\n",
      "2025-10-29 14:38:54 - INFO - Measuring model performance for testing data\n",
      "2025-10-29 14:38:54 - INFO - Evaluating model performance on the Testing set\n",
      "2025-10-29 14:38:54 - INFO - Testing Set Performance Summary - Gini: 0.8574\n",
      "2025-10-29 14:38:54 - INFO - Model Development for 'Median Gain 10dd' Finished Successfully\n",
      "2025-10-29 14:38:54 - INFO - Saving models and collating performance metrics for BBCA\n",
      "2025-10-29 14:38:54 - INFO - Measuring model performances on training and testing sets\n",
      "2025-10-29 14:38:54 - INFO - Developing model for 'BBCA' - 15 Day Rolling Window\n",
      "2025-10-29 14:38:54 - INFO - Starting Model Development for Target: 'Median Gain 15dd'\n",
      "2025-10-29 14:38:54 - INFO - Loading feature names from 'modelDevelopment/technical_indicator_features.txt'\n",
      "2025-10-29 14:38:54 - INFO - Splitting data into training, validation, testing, and forecast sets\n",
      "2025-10-29 14:38:54 - INFO - Training set size: 1003, Test set size: 112\n",
      "2025-10-29 14:38:54 - INFO - Succesfully splitted both training and testing data into its corresponding feature and target data\n",
      "2025-10-29 14:38:54 - INFO - Sucessfully created PredefinedSplit for time-series cross-validation\n",
      "2025-10-29 14:38:54 - INFO - Initializing CatBoost model and starting hyperparameter tuning with BayesSearchCV\n",
      "2025-10-29 14:38:54 - INFO - Hyperparameter search space defined: {'depth': Integer(low=1, high=5, prior='uniform', transform='identity'), 'learning_rate': Real(low=0.01, high=0.1, prior='log-uniform', transform='identity'), 'iterations': Integer(low=150, high=300, prior='uniform', transform='identity'), 'l2_leaf_reg': Real(low=0.5, high=3.0, prior='uniform', transform='identity')}\n",
      "2025-10-29 14:38:54 - INFO - Using 'roc_auc' as the scoring metric for hyperparameter tuning\n",
      "2025-10-29 14:38:54 - INFO - Fitting BayesSearchCV... This may take some time\n",
      "2025-10-29 14:39:07 - INFO - Hyperparameter tuning complete\n",
      "2025-10-29 14:39:07 - INFO - Best parameters found: OrderedDict([('depth', 3), ('iterations', 157), ('l2_leaf_reg', 0.5), ('learning_rate', 0.019185833307726753)])\n",
      "2025-10-29 14:39:07 - INFO - Best cross-validated roc_auc: 0.9588\n",
      "2025-10-29 14:39:07 - INFO - Measuring model performance for training data\n",
      "2025-10-29 14:39:07 - INFO - Evaluating model performance on the Training set\n",
      "2025-10-29 14:39:07 - INFO - Training Set Performance Summary - Gini: 0.9649\n",
      "2025-10-29 14:39:07 - INFO - Measuring model performance for testing data\n",
      "2025-10-29 14:39:07 - INFO - Evaluating model performance on the Testing set\n",
      "2025-10-29 14:39:07 - INFO - Testing Set Performance Summary - Gini: 0.7798\n",
      "2025-10-29 14:39:07 - INFO - Model Development for 'Median Gain 15dd' Finished Successfully\n",
      "2025-10-29 14:39:07 - INFO - Saving models and collating performance metrics for BBCA\n",
      "2025-10-29 14:39:07 - INFO - Measuring model performances on training and testing sets\n",
      "2025-10-29 14:39:07 - INFO - Finished processing for Emiten: BBCA\n",
      "2025-10-29 14:39:07 - INFO - Processing Emiten: BMRI (2/3)\n",
      "2025-10-29 14:39:07 - INFO - Preparing data for BMRI\n",
      "2025-10-29 14:39:07 - INFO - Starting Data Preparation Pipeline for Emiten: BMRI\n",
      "2025-10-29 14:39:07 - INFO - Downloading stock data for emiten BMRI.JK\n",
      "2025-10-29 14:39:07 - INFO - Generating technical indicators as features\n",
      "2025-10-29 14:39:07 - INFO - Processing the data into a format that is compatible for generating the stock indicators\n",
      "2025-10-29 14:39:07 - INFO - Generating stock indicators of price trends\n",
      "2025-10-29 14:39:07 - INFO - Generating stock indicators of price channels\n",
      "2025-10-29 14:39:09 - INFO - Generating stock indicators of oscillators\n",
      "2025-10-29 14:39:09 - INFO - Generating stock indicators of volume based\n",
      "2025-10-29 14:39:11 - INFO - Generating stock indicators of price transformations\n",
      "2025-10-29 14:39:11 - INFO - Successfully generated all stock indicators\n",
      "2025-10-29 14:39:11 - INFO - Acquired 52 features for the stock data\n",
      "2025-10-29 14:39:11 - INFO - Saving all newly generated features into modelDevelopment/technical_indicator_features.txt\n",
      "2025-10-29 14:39:11 - INFO - Generating 10ddand 15dd median gain as target variables\n",
      "2025-10-29 14:39:11 - INFO - Succesfully Executed the Data Preparation Pipeline for Emiten BMRI\n",
      "2025-10-29 14:39:11 - INFO - Developing model for 'BMRI' - 10 Day Rolling Window\n",
      "2025-10-29 14:39:11 - INFO - Starting Model Development for Target: 'Median Gain 10dd'\n",
      "2025-10-29 14:39:11 - INFO - Loading feature names from 'modelDevelopment/technical_indicator_features.txt'\n",
      "2025-10-29 14:39:11 - INFO - Splitting data into training, validation, testing, and forecast sets\n",
      "2025-10-29 14:39:11 - INFO - Training set size: 1003, Test set size: 112\n",
      "2025-10-29 14:39:11 - INFO - Succesfully splitted both training and testing data into its corresponding feature and target data\n",
      "2025-10-29 14:39:11 - INFO - Sucessfully created PredefinedSplit for time-series cross-validation\n",
      "2025-10-29 14:39:11 - INFO - Initializing CatBoost model and starting hyperparameter tuning with BayesSearchCV\n",
      "2025-10-29 14:39:11 - INFO - Hyperparameter search space defined: {'depth': Integer(low=1, high=5, prior='uniform', transform='identity'), 'learning_rate': Real(low=0.01, high=0.1, prior='log-uniform', transform='identity'), 'iterations': Integer(low=150, high=300, prior='uniform', transform='identity'), 'l2_leaf_reg': Real(low=0.5, high=3.0, prior='uniform', transform='identity')}\n",
      "2025-10-29 14:39:11 - INFO - Using 'roc_auc' as the scoring metric for hyperparameter tuning\n",
      "2025-10-29 14:39:11 - INFO - Fitting BayesSearchCV... This may take some time\n",
      "2025-10-29 14:39:25 - INFO - Hyperparameter tuning complete\n",
      "2025-10-29 14:39:25 - INFO - Best parameters found: OrderedDict([('depth', 4), ('iterations', 150), ('l2_leaf_reg', 3.0), ('learning_rate', 0.1)])\n",
      "2025-10-29 14:39:25 - INFO - Best cross-validated roc_auc: 0.9459\n",
      "2025-10-29 14:39:25 - INFO - Measuring model performance for training data\n",
      "2025-10-29 14:39:25 - INFO - Evaluating model performance on the Training set\n",
      "2025-10-29 14:39:25 - INFO - Training Set Performance Summary - Gini: 0.9978\n",
      "2025-10-29 14:39:25 - INFO - Measuring model performance for testing data\n",
      "2025-10-29 14:39:25 - INFO - Evaluating model performance on the Testing set\n",
      "2025-10-29 14:39:25 - INFO - Testing Set Performance Summary - Gini: 0.9226\n",
      "2025-10-29 14:39:25 - INFO - Model Development for 'Median Gain 10dd' Finished Successfully\n",
      "2025-10-29 14:39:25 - INFO - Saving models and collating performance metrics for BMRI\n",
      "2025-10-29 14:39:25 - INFO - Measuring model performances on training and testing sets\n",
      "2025-10-29 14:39:25 - INFO - Developing model for 'BMRI' - 15 Day Rolling Window\n",
      "2025-10-29 14:39:25 - INFO - Starting Model Development for Target: 'Median Gain 15dd'\n",
      "2025-10-29 14:39:25 - INFO - Loading feature names from 'modelDevelopment/technical_indicator_features.txt'\n",
      "2025-10-29 14:39:25 - INFO - Splitting data into training, validation, testing, and forecast sets\n",
      "2025-10-29 14:39:25 - INFO - Training set size: 1003, Test set size: 112\n",
      "2025-10-29 14:39:25 - INFO - Succesfully splitted both training and testing data into its corresponding feature and target data\n",
      "2025-10-29 14:39:25 - INFO - Sucessfully created PredefinedSplit for time-series cross-validation\n",
      "2025-10-29 14:39:25 - INFO - Initializing CatBoost model and starting hyperparameter tuning with BayesSearchCV\n",
      "2025-10-29 14:39:25 - INFO - Hyperparameter search space defined: {'depth': Integer(low=1, high=5, prior='uniform', transform='identity'), 'learning_rate': Real(low=0.01, high=0.1, prior='log-uniform', transform='identity'), 'iterations': Integer(low=150, high=300, prior='uniform', transform='identity'), 'l2_leaf_reg': Real(low=0.5, high=3.0, prior='uniform', transform='identity')}\n",
      "2025-10-29 14:39:25 - INFO - Using 'roc_auc' as the scoring metric for hyperparameter tuning\n",
      "2025-10-29 14:39:25 - INFO - Fitting BayesSearchCV... This may take some time\n",
      "2025-10-29 14:39:38 - INFO - Hyperparameter tuning complete\n",
      "2025-10-29 14:39:38 - INFO - Best parameters found: OrderedDict([('depth', 3), ('iterations', 282), ('l2_leaf_reg', 2.1187603449291625), ('learning_rate', 0.01081240362414805)])\n",
      "2025-10-29 14:39:38 - INFO - Best cross-validated roc_auc: 0.9294\n",
      "2025-10-29 14:39:38 - INFO - Measuring model performance for training data\n",
      "2025-10-29 14:39:38 - INFO - Evaluating model performance on the Training set\n",
      "2025-10-29 14:39:38 - INFO - Training Set Performance Summary - Gini: 0.9736\n",
      "2025-10-29 14:39:38 - INFO - Measuring model performance for testing data\n",
      "2025-10-29 14:39:38 - INFO - Evaluating model performance on the Testing set\n",
      "2025-10-29 14:39:38 - INFO - Testing Set Performance Summary - Gini: 0.8558\n",
      "2025-10-29 14:39:38 - INFO - Model Development for 'Median Gain 15dd' Finished Successfully\n",
      "2025-10-29 14:39:38 - INFO - Saving models and collating performance metrics for BMRI\n",
      "2025-10-29 14:39:38 - INFO - Measuring model performances on training and testing sets\n",
      "2025-10-29 14:39:38 - INFO - Finished processing for Emiten: BMRI\n",
      "2025-10-29 14:39:38 - INFO - Processing Emiten: GPSO (3/3)\n",
      "2025-10-29 14:39:38 - INFO - Preparing data for GPSO\n",
      "2025-10-29 14:39:38 - INFO - Starting Data Preparation Pipeline for Emiten: GPSO\n",
      "2025-10-29 14:39:38 - INFO - Downloading stock data for emiten GPSO.JK\n",
      "2025-10-29 14:39:38 - INFO - Generating technical indicators as features\n",
      "2025-10-29 14:39:38 - INFO - Processing the data into a format that is compatible for generating the stock indicators\n",
      "2025-10-29 14:39:38 - INFO - Generating stock indicators of price trends\n",
      "2025-10-29 14:39:39 - INFO - Generating stock indicators of price channels\n",
      "2025-10-29 14:39:40 - INFO - Generating stock indicators of oscillators\n",
      "2025-10-29 14:39:40 - INFO - Generating stock indicators of volume based\n",
      "2025-10-29 14:39:41 - INFO - Generating stock indicators of price transformations\n",
      "2025-10-29 14:39:42 - INFO - Successfully generated all stock indicators\n",
      "2025-10-29 14:39:42 - INFO - Acquired 52 features for the stock data\n",
      "2025-10-29 14:39:42 - INFO - Saving all newly generated features into modelDevelopment/technical_indicator_features.txt\n",
      "2025-10-29 14:39:42 - INFO - Generating 10ddand 15dd median gain as target variables\n",
      "2025-10-29 14:39:42 - INFO - Succesfully Executed the Data Preparation Pipeline for Emiten GPSO\n",
      "2025-10-29 14:39:42 - INFO - Developing model for 'GPSO' - 10 Day Rolling Window\n",
      "2025-10-29 14:39:42 - INFO - Starting Model Development for Target: 'Median Gain 10dd'\n",
      "2025-10-29 14:39:42 - INFO - Loading feature names from 'modelDevelopment/technical_indicator_features.txt'\n",
      "2025-10-29 14:39:42 - INFO - Splitting data into training, validation, testing, and forecast sets\n",
      "2025-10-29 14:39:42 - INFO - Training set size: 855, Test set size: 96\n",
      "2025-10-29 14:39:42 - INFO - Succesfully splitted both training and testing data into its corresponding feature and target data\n",
      "2025-10-29 14:39:42 - INFO - Sucessfully created PredefinedSplit for time-series cross-validation\n",
      "2025-10-29 14:39:42 - INFO - Initializing CatBoost model and starting hyperparameter tuning with BayesSearchCV\n",
      "2025-10-29 14:39:42 - INFO - Hyperparameter search space defined: {'depth': Integer(low=1, high=5, prior='uniform', transform='identity'), 'learning_rate': Real(low=0.01, high=0.1, prior='log-uniform', transform='identity'), 'iterations': Integer(low=150, high=300, prior='uniform', transform='identity'), 'l2_leaf_reg': Real(low=0.5, high=3.0, prior='uniform', transform='identity')}\n",
      "2025-10-29 14:39:42 - INFO - Using 'accuracy' as the scoring metric for hyperparameter tuning\n",
      "2025-10-29 14:39:42 - INFO - Fitting BayesSearchCV... This may take some time\n",
      "2025-10-29 14:39:56 - INFO - Hyperparameter tuning complete\n",
      "2025-10-29 14:39:56 - INFO - Best parameters found: OrderedDict([('depth', 3), ('iterations', 165), ('l2_leaf_reg', 1.6718585007248163), ('learning_rate', 0.08373989830949405)])\n",
      "2025-10-29 14:39:56 - INFO - Best cross-validated accuracy: 0.8542\n",
      "2025-10-29 14:39:56 - INFO - Measuring model performance for training data\n",
      "2025-10-29 14:39:56 - INFO - Evaluating model performance on the Training set\n",
      "2025-10-29 14:39:56 - INFO - Training Set Performance Summary - Gini: 0.9866\n",
      "2025-10-29 14:39:56 - INFO - Measuring model performance for testing data\n",
      "2025-10-29 14:39:56 - INFO - Evaluating model performance on the Testing set\n",
      "2025-10-29 14:39:56 - INFO - Testing Set Performance Summary - Gini: 0.8278\n",
      "2025-10-29 14:39:56 - INFO - Model Development for 'Median Gain 10dd' Finished Successfully\n",
      "2025-10-29 14:39:56 - INFO - Saving models and collating performance metrics for GPSO\n",
      "2025-10-29 14:39:56 - INFO - Measuring model performances on training and testing sets\n",
      "2025-10-29 14:39:56 - INFO - Developing model for 'GPSO' - 15 Day Rolling Window\n",
      "2025-10-29 14:39:56 - INFO - Starting Model Development for Target: 'Median Gain 15dd'\n",
      "2025-10-29 14:39:56 - INFO - Loading feature names from 'modelDevelopment/technical_indicator_features.txt'\n",
      "2025-10-29 14:39:56 - INFO - Splitting data into training, validation, testing, and forecast sets\n",
      "2025-10-29 14:39:56 - INFO - Training set size: 855, Test set size: 96\n",
      "2025-10-29 14:39:56 - INFO - Succesfully splitted both training and testing data into its corresponding feature and target data\n",
      "2025-10-29 14:39:56 - INFO - Sucessfully created PredefinedSplit for time-series cross-validation\n",
      "2025-10-29 14:39:56 - INFO - Initializing CatBoost model and starting hyperparameter tuning with BayesSearchCV\n",
      "2025-10-29 14:39:56 - INFO - Hyperparameter search space defined: {'depth': Integer(low=1, high=5, prior='uniform', transform='identity'), 'learning_rate': Real(low=0.01, high=0.1, prior='log-uniform', transform='identity'), 'iterations': Integer(low=150, high=300, prior='uniform', transform='identity'), 'l2_leaf_reg': Real(low=0.5, high=3.0, prior='uniform', transform='identity')}\n",
      "2025-10-29 14:39:56 - INFO - Using 'accuracy' as the scoring metric for hyperparameter tuning\n",
      "2025-10-29 14:39:56 - INFO - Fitting BayesSearchCV... This may take some time\n",
      "2025-10-29 14:40:10 - INFO - Hyperparameter tuning complete\n",
      "2025-10-29 14:40:10 - INFO - Best parameters found: OrderedDict([('depth', 3), ('iterations', 219), ('l2_leaf_reg', 1.4890434964771497), ('learning_rate', 0.028250882860986634)])\n",
      "2025-10-29 14:40:10 - INFO - Best cross-validated accuracy: 0.9375\n",
      "2025-10-29 14:40:10 - INFO - Measuring model performance for training data\n",
      "2025-10-29 14:40:10 - INFO - Evaluating model performance on the Training set\n",
      "2025-10-29 14:40:10 - INFO - Training Set Performance Summary - Gini: 0.9880\n",
      "2025-10-29 14:40:10 - INFO - Measuring model performance for testing data\n",
      "2025-10-29 14:40:10 - INFO - Evaluating model performance on the Testing set\n",
      "2025-10-29 14:40:10 - INFO - Testing Set Performance Summary - Gini: 0.9398\n",
      "2025-10-29 14:40:10 - INFO - Model Development for 'Median Gain 15dd' Finished Successfully\n",
      "2025-10-29 14:40:10 - INFO - Saving models and collating performance metrics for GPSO\n",
      "2025-10-29 14:40:10 - INFO - Measuring model performances on training and testing sets\n",
      "2025-10-29 14:40:10 - INFO - Finished processing for Emiten: GPSO\n",
      "2025-10-29 14:40:10 - INFO - Saving stocks that are failed being processed to 'database/modelPerformances/medianGain/failedStocks-20251029.txt'...\n",
      "2025-10-29 14:40:10 - INFO - List of failed stocks saved successfully\n",
      "2025-10-29 14:40:10 - INFO - Bulk Model Development Complete\n"
     ]
    }
   ],
   "source": [
    "develop_models_for_selected_emiten(['BBCA', 'BMRI', 'GPSO'], 'median_gain', [10, 15])"
   ]
  },
  {
   "cell_type": "code",
   "execution_count": 4,
   "id": "315a00ed-f6d0-4ec6-82be-eed749c0486f",
   "metadata": {
    "collapsed": true,
    "jupyter": {
     "outputs_hidden": true
    },
    "scrolled": true
   },
   "outputs": [
    {
     "name": "stderr",
     "output_type": "stream",
     "text": [
      "2025-10-29 14:28:27 - INFO - Starting Bulk Model Development for 1 Selected Industries\n",
      "2025-10-29 14:28:27 - INFO - Processing Industry: Financials (1/1)\n",
      "2025-10-29 14:28:27 - INFO - Preparing data for Financials\n",
      "2025-10-29 14:28:27 - INFO - Starting Data Preparation Pipeline for Industry: Financials\n",
      "2025-10-29 14:28:27 - INFO - Downloading stock data for industry Financials\n",
      "2025-10-29 14:28:27 - INFO - Acquired 105 emitens belonged to the Financials industry\n",
      "2025-10-29 14:28:27 - INFO - Processing 1 out of 105 emitens\n",
      "2025-10-29 14:28:27 - INFO - Downloading stock data for emiten ABDA.JK\n",
      "2025-10-29 14:28:27 - INFO - Generating technical indicators as features\n",
      "2025-10-29 14:28:27 - INFO - Processing the data into a format that is compatible for generating the stock indicators\n",
      "2025-10-29 14:28:27 - INFO - Generating stock indicators of price trends\n",
      "2025-10-29 14:28:28 - INFO - Generating stock indicators of price channels\n",
      "2025-10-29 14:28:30 - INFO - Generating stock indicators of oscillators\n",
      "2025-10-29 14:28:30 - INFO - Generating stock indicators of volume based\n",
      "2025-10-29 14:28:31 - INFO - Generating stock indicators of price transformations\n",
      "2025-10-29 14:28:32 - INFO - Successfully generated all stock indicators\n",
      "2025-10-29 14:28:32 - INFO - Acquired 52 features for the stock data\n",
      "2025-10-29 14:28:32 - INFO - Saving all newly generated features into modelDevelopment/technical_indicator_features.txt\n",
      "2025-10-29 14:28:32 - INFO - Appending the currently generated emiten data to all emitens data\n",
      "2025-10-29 14:28:32 - INFO - Processing 2 out of 105 emitens\n",
      "2025-10-29 14:28:32 - INFO - Downloading stock data for emiten ADMF.JK\n",
      "2025-10-29 14:28:32 - INFO - Generating technical indicators as features\n",
      "2025-10-29 14:28:32 - INFO - Processing the data into a format that is compatible for generating the stock indicators\n",
      "2025-10-29 14:28:32 - INFO - Generating stock indicators of price trends\n",
      "2025-10-29 14:28:33 - INFO - Generating stock indicators of price channels\n",
      "2025-10-29 14:28:34 - INFO - Generating stock indicators of oscillators\n",
      "2025-10-29 14:28:34 - INFO - Generating stock indicators of volume based\n",
      "2025-10-29 14:28:36 - INFO - Generating stock indicators of price transformations\n",
      "2025-10-29 14:28:36 - INFO - Successfully generated all stock indicators\n",
      "2025-10-29 14:28:36 - INFO - Acquired 52 features for the stock data\n",
      "2025-10-29 14:28:36 - INFO - Saving all newly generated features into modelDevelopment/technical_indicator_features.txt\n",
      "2025-10-29 14:28:36 - INFO - Appending the currently generated emiten data to all emitens data\n",
      "2025-10-29 14:28:36 - INFO - Processing 3 out of 105 emitens\n",
      "2025-10-29 14:28:36 - INFO - Downloading stock data for emiten AGRO.JK\n",
      "2025-10-29 14:28:36 - INFO - Generating technical indicators as features\n",
      "2025-10-29 14:28:36 - INFO - Processing the data into a format that is compatible for generating the stock indicators\n",
      "2025-10-29 14:28:36 - INFO - Generating stock indicators of price trends\n",
      "2025-10-29 14:28:37 - INFO - Generating stock indicators of price channels\n",
      "2025-10-29 14:28:39 - INFO - Generating stock indicators of oscillators\n",
      "2025-10-29 14:28:39 - INFO - Generating stock indicators of volume based\n",
      "2025-10-29 14:28:40 - INFO - Generating stock indicators of price transformations\n",
      "2025-10-29 14:28:41 - INFO - Successfully generated all stock indicators\n",
      "2025-10-29 14:28:41 - INFO - Acquired 52 features for the stock data\n",
      "2025-10-29 14:28:41 - INFO - Saving all newly generated features into modelDevelopment/technical_indicator_features.txt\n",
      "2025-10-29 14:28:41 - INFO - Appending the currently generated emiten data to all emitens data\n",
      "2025-10-29 14:28:41 - INFO - Generating 10ddand 15dd median gain as target variables\n",
      "2025-10-29 14:28:41 - INFO - Succesfully Executed the Data Preparation Pipeline for Industry Financials\n",
      "2025-10-29 14:28:41 - INFO - Developing model for 'Financials' - 10 Day Rolling Window\n",
      "2025-10-29 14:28:41 - INFO - Starting Model Development for Target: 'Median Gain 10dd'\n",
      "2025-10-29 14:28:41 - INFO - Loading feature names from 'modelDevelopment/technical_indicator_features.txt'\n",
      "2025-10-29 14:28:41 - INFO - Splitting data into training, validation, testing, and forecast sets\n",
      "2025-10-29 14:28:41 - INFO - Training set size: 2804, Test set size: 312\n",
      "2025-10-29 14:28:41 - INFO - Succesfully splitted both training and testing data into its corresponding feature and target data\n",
      "2025-10-29 14:28:41 - INFO - Sucessfully created PredefinedSplit for time-series cross-validation\n",
      "2025-10-29 14:28:41 - INFO - Initializing CatBoost model and starting hyperparameter tuning with BayesSearchCV\n",
      "2025-10-29 14:28:41 - INFO - Hyperparameter search space defined: {'depth': Integer(low=1, high=5, prior='uniform', transform='identity'), 'learning_rate': Real(low=0.01, high=0.1, prior='log-uniform', transform='identity'), 'iterations': Integer(low=150, high=300, prior='uniform', transform='identity'), 'l2_leaf_reg': Real(low=0.5, high=3.0, prior='uniform', transform='identity')}\n",
      "2025-10-29 14:28:41 - INFO - Using 'accuracy' as the scoring metric for hyperparameter tuning\n",
      "2025-10-29 14:28:41 - INFO - Fitting BayesSearchCV... This may take some time\n",
      "2025-10-29 14:29:02 - INFO - Hyperparameter tuning complete\n",
      "2025-10-29 14:29:02 - INFO - Best parameters found: OrderedDict([('depth', 4), ('iterations', 246), ('l2_leaf_reg', 2.6068279095467854), ('learning_rate', 0.09642684547520065)])\n",
      "2025-10-29 14:29:02 - INFO - Best cross-validated accuracy: 0.9615\n",
      "2025-10-29 14:29:02 - INFO - Measuring model performance for training data\n",
      "2025-10-29 14:29:02 - INFO - Evaluating model performance on the Training set\n",
      "2025-10-29 14:29:02 - INFO - Training Set Performance Summary - Gini: 0.9914\n",
      "2025-10-29 14:29:02 - INFO - Measuring model performance for testing data\n",
      "2025-10-29 14:29:02 - INFO - Evaluating model performance on the Testing set\n",
      "2025-10-29 14:29:02 - INFO - Testing Set Performance Summary - Gini: 0.9010\n",
      "2025-10-29 14:29:02 - INFO - Model Development for 'Median Gain 10dd' Finished Successfully\n",
      "2025-10-29 14:29:02 - INFO - Saving models and collating performance metrics for Financials\n",
      "2025-10-29 14:29:02 - INFO - Measuring model performances on training and testing sets\n",
      "2025-10-29 14:29:02 - INFO - Developing model for 'Financials' - 15 Day Rolling Window\n",
      "2025-10-29 14:29:02 - INFO - Starting Model Development for Target: 'Median Gain 15dd'\n",
      "2025-10-29 14:29:02 - INFO - Loading feature names from 'modelDevelopment/technical_indicator_features.txt'\n",
      "2025-10-29 14:29:02 - INFO - Splitting data into training, validation, testing, and forecast sets\n",
      "2025-10-29 14:29:02 - INFO - Training set size: 2804, Test set size: 312\n",
      "2025-10-29 14:29:02 - INFO - Succesfully splitted both training and testing data into its corresponding feature and target data\n",
      "2025-10-29 14:29:02 - INFO - Sucessfully created PredefinedSplit for time-series cross-validation\n",
      "2025-10-29 14:29:02 - INFO - Initializing CatBoost model and starting hyperparameter tuning with BayesSearchCV\n",
      "2025-10-29 14:29:02 - INFO - Hyperparameter search space defined: {'depth': Integer(low=1, high=5, prior='uniform', transform='identity'), 'learning_rate': Real(low=0.01, high=0.1, prior='log-uniform', transform='identity'), 'iterations': Integer(low=150, high=300, prior='uniform', transform='identity'), 'l2_leaf_reg': Real(low=0.5, high=3.0, prior='uniform', transform='identity')}\n",
      "2025-10-29 14:29:02 - INFO - Using 'accuracy' as the scoring metric for hyperparameter tuning\n",
      "2025-10-29 14:29:02 - INFO - Fitting BayesSearchCV... This may take some time\n",
      "2025-10-29 14:29:20 - INFO - Hyperparameter tuning complete\n",
      "2025-10-29 14:29:20 - INFO - Best parameters found: OrderedDict([('depth', 4), ('iterations', 300), ('l2_leaf_reg', 3.0), ('learning_rate', 0.04721809839709996)])\n",
      "2025-10-29 14:29:20 - INFO - Best cross-validated accuracy: 0.9615\n",
      "2025-10-29 14:29:20 - INFO - Measuring model performance for training data\n",
      "2025-10-29 14:29:20 - INFO - Evaluating model performance on the Training set\n",
      "2025-10-29 14:29:20 - INFO - Training Set Performance Summary - Gini: 0.9878\n",
      "2025-10-29 14:29:20 - INFO - Measuring model performance for testing data\n",
      "2025-10-29 14:29:20 - INFO - Evaluating model performance on the Testing set\n",
      "2025-10-29 14:29:20 - INFO - Testing Set Performance Summary - Gini: 0.9298\n",
      "2025-10-29 14:29:20 - INFO - Model Development for 'Median Gain 15dd' Finished Successfully\n",
      "2025-10-29 14:29:20 - INFO - Saving models and collating performance metrics for Financials\n",
      "2025-10-29 14:29:20 - INFO - Measuring model performances on training and testing sets\n",
      "2025-10-29 14:29:20 - INFO - Finished processing for Industry: Financials\n",
      "2025-10-29 14:29:20 - INFO - Bulk Model Development Complete\n"
     ]
    }
   ],
   "source": [
    "develop_models_for_industries(['Financials'], 'median_gain', [10, 15])"
   ]
  },
  {
   "cell_type": "code",
   "execution_count": null,
   "id": "5702c234-01a4-4c27-a6c7-8a6e80de9370",
   "metadata": {},
   "outputs": [],
   "source": [
    "performance_10dd = pd.read_csv('database/modelPerformances/maxLoss/10dd-20251029.csv') \\\n",
    "                        .dropna() \\\n",
    "                        .reset_index(drop=True) \\\n",
    "                        .sort_values('Threshold', ascending=False)\n",
    "\n",
    "performance_15dd = pd.read_csv('database/modelPerformances/maxLoss/15dd-20251029.csv') \\\n",
    "                        .dropna() \\\n",
    "                        .reset_index(drop=True) \\\n",
    "                        .sort_values('Threshold', ascending=False)"
   ]
  },
  {
   "cell_type": "code",
   "execution_count": null,
   "id": "2f52fde8-c352-47da-8e68-f9534e6c34b0",
   "metadata": {},
   "outputs": [],
   "source": [
    "performance_10dd.describe()"
   ]
  },
  {
   "cell_type": "code",
   "execution_count": null,
   "id": "7767f7d0-d0c6-4ddf-86c5-7f66202f75f3",
   "metadata": {},
   "outputs": [],
   "source": [
    "performance_15dd.describe()"
   ]
  },
  {
   "cell_type": "code",
   "execution_count": null,
   "id": "b0b36488-22c9-405e-9034-292b4fd57d80",
   "metadata": {
    "scrolled": true
   },
   "outputs": [],
   "source": [
    "forecast_using_the_developed_models(10, 'maxLoss', '20251029', 0.5)"
   ]
  },
  {
   "cell_type": "code",
   "execution_count": null,
   "id": "aca74e85-6c0d-4bf0-8855-1cbf38b6070a",
   "metadata": {
    "scrolled": true
   },
   "outputs": [],
   "source": [
    "forecast_using_the_developed_models(15, 'maxLoss', '20251029', 0.5)"
   ]
  },
  {
   "cell_type": "code",
   "execution_count": null,
   "id": "b241a07f-c993-464b-a1ec-79b244ee1775",
   "metadata": {},
   "outputs": [],
   "source": [
    "forecast_10_dd = pd.read_csv('database/forecastedStocks/maxLoss/forecast-10dd-20251029.csv')\n",
    "forecast_15_dd = pd.read_csv('database/forecastedStocks/maxLoss/forecast-15dd-20251029.csv')"
   ]
  },
  {
   "cell_type": "code",
   "execution_count": null,
   "id": "9fdd1ea8-bdc8-4bc1-a177-b38f35044b9c",
   "metadata": {},
   "outputs": [],
   "source": [
    "pd.merge(performance_10dd, forecast_10_dd, on='Kode', how='inner').sort_values('Forecast Low Risk 10dd', ascending=False).head()"
   ]
  },
  {
   "cell_type": "code",
   "execution_count": null,
   "id": "b9d00f5a-74bc-4c8a-af98-0ac46c9b0503",
   "metadata": {},
   "outputs": [],
   "source": [
    "pd.merge(performance_15dd, forecast_15_dd, on='Kode', how='inner').sort_values('Forecast Low Risk 15dd', ascending=False).head()"
   ]
  },
  {
   "cell_type": "code",
   "execution_count": null,
   "id": "765a814e-2ef8-479d-a21c-86b099b17e90",
   "metadata": {},
   "outputs": [],
   "source": []
  },
  {
   "cell_type": "code",
   "execution_count": null,
   "id": "d007b0fc-8fa4-4d03-a27d-ae0803be64bf",
   "metadata": {
    "scrolled": true
   },
   "outputs": [],
   "source": [
    "from dataPreparation.main import  prepare_data_for_modelling_per_industry\n",
    "\n",
    "industry = 'Industrials'\n",
    "start_date = '2021-01-01'\n",
    "end_date = '2025-10-01'\n",
    "target_column = 'Close'\n",
    "label_type = 'median_gain'\n",
    "rolling_windows = [10, 15]\n",
    "resulted_data = prepare_data_for_modelling_per_industry(industry, start_date, end_date, target_column, label_type, rolling_windows)"
   ]
  },
  {
   "cell_type": "code",
   "execution_count": null,
   "id": "d86a5cb5-28e0-4730-952f-8e71acd898e7",
   "metadata": {
    "scrolled": true
   },
   "outputs": [],
   "source": [
    "resulted_data.tail(10)"
   ]
  },
  {
   "cell_type": "code",
   "execution_count": null,
   "id": "a762eddf-10cd-49cc-bb75-fc08208c77e7",
   "metadata": {},
   "outputs": [],
   "source": [
    "resulted_data.sort_index().tail(9)"
   ]
  },
  {
   "cell_type": "code",
   "execution_count": null,
   "id": "5241367c-8d05-460c-884a-5dba7bc85586",
   "metadata": {},
   "outputs": [],
   "source": []
  },
  {
   "cell_type": "code",
   "execution_count": null,
   "id": "117515c9-f32a-4046-b7a1-366e150bce25",
   "metadata": {},
   "outputs": [],
   "source": []
  },
  {
   "cell_type": "code",
   "execution_count": null,
   "id": "75fc429c-318f-49b8-be85-90b83a847de8",
   "metadata": {},
   "outputs": [],
   "source": []
  },
  {
   "cell_type": "code",
   "execution_count": null,
   "id": "8154bf62-f818-451f-b967-12e5c2c8d388",
   "metadata": {},
   "outputs": [],
   "source": []
  }
 ],
 "metadata": {
  "kernelspec": {
   "display_name": "Python 3 (ipykernel)",
   "language": "python",
   "name": "python3"
  },
  "language_info": {
   "codemirror_mode": {
    "name": "ipython",
    "version": 3
   },
   "file_extension": ".py",
   "mimetype": "text/x-python",
   "name": "python",
   "nbconvert_exporter": "python",
   "pygments_lexer": "ipython3",
   "version": "3.11.2"
  }
 },
 "nbformat": 4,
 "nbformat_minor": 5
}
