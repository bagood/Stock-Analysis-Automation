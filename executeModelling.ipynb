{
 "cells": [
  {
   "cell_type": "code",
   "execution_count": null,
   "id": "68555dc3-d806-446b-9438-9f3136c4af07",
   "metadata": {},
   "outputs": [],
   "source": [
    "import numpy as np\n",
    "import pandas as pd\n",
    "\n",
    "from warnings import simplefilter\n",
    "simplefilter('ignore')\n",
    "\n",
    "pd.set_option('display.max_rows', 10)\n",
    "pd.set_option('display.max_columns', 10)"
   ]
  },
  {
   "cell_type": "code",
   "execution_count": null,
   "id": "e40bdd6d-2c59-427d-9c6c-b82d90059b3c",
   "metadata": {},
   "outputs": [],
   "source": [
    "from performStockAnalysis.main import select_emiten_to_model, develop_models_for_selected_emiten, forecast_using_the_developed_models"
   ]
  },
  {
   "cell_type": "code",
   "execution_count": null,
   "id": "97b5737b-e9c5-4d63-aa71-92ff7e61e337",
   "metadata": {
    "scrolled": true
   },
   "outputs": [],
   "source": [
    "selected_kode = select_emiten_to_model()"
   ]
  },
  {
   "cell_type": "code",
   "execution_count": null,
   "id": "315a00ed-f6d0-4ec6-82be-eed749c0486f",
   "metadata": {
    "scrolled": true
   },
   "outputs": [],
   "source": [
    "develop_models_for_selected_emiten(['BBCA'], 'max_loss', [10, 15])"
   ]
  },
  {
   "cell_type": "code",
   "execution_count": null,
   "id": "5702c234-01a4-4c27-a6c7-8a6e80de9370",
   "metadata": {},
   "outputs": [],
   "source": [
    "performance_10dd = pd.read_csv('database/modelPerformances/maxLoss/10dd-20251027.csv') \\\n",
    "                        .dropna() \\\n",
    "                        .reset_index(drop=True) \\\n",
    "                        .sort_values('Threshold', ascending=False)\n",
    "\n",
    "performance_15dd = pd.read_csv('database/modelPerformances/maxLoss/15dd-20251027.csv') \\\n",
    "                        .dropna() \\\n",
    "                        .reset_index(drop=True) \\\n",
    "                        .sort_values('Threshold', ascending=False)"
   ]
  },
  {
   "cell_type": "code",
   "execution_count": null,
   "id": "2f52fde8-c352-47da-8e68-f9534e6c34b0",
   "metadata": {},
   "outputs": [],
   "source": [
    "performance_10dd.describe()"
   ]
  },
  {
   "cell_type": "code",
   "execution_count": null,
   "id": "7767f7d0-d0c6-4ddf-86c5-7f66202f75f3",
   "metadata": {},
   "outputs": [],
   "source": [
    "performance_15dd.describe()"
   ]
  },
  {
   "cell_type": "code",
   "execution_count": null,
   "id": "b0b36488-22c9-405e-9034-292b4fd57d80",
   "metadata": {
    "scrolled": true
   },
   "outputs": [],
   "source": [
    "forecast_using_the_developed_models(10, 'maxLoss', '20251027', 0.5)"
   ]
  },
  {
   "cell_type": "code",
   "execution_count": null,
   "id": "aca74e85-6c0d-4bf0-8855-1cbf38b6070a",
   "metadata": {},
   "outputs": [],
   "source": [
    "forecast_using_the_developed_models(15, 'maxLoss', '20251027', 0.5)"
   ]
  },
  {
   "cell_type": "code",
   "execution_count": null,
   "id": "b241a07f-c993-464b-a1ec-79b244ee1775",
   "metadata": {},
   "outputs": [],
   "source": [
    "forecast_10_dd = pd.read_csv('database/forecastedStocks/maxLoss/forecast-10dd-20251027.csv')\n",
    "forecast_15_dd = pd.read_csv('database/forecastedStocks/maxLoss/forecast-15dd-20251027.csv')"
   ]
  },
  {
   "cell_type": "code",
   "execution_count": null,
   "id": "9fdd1ea8-bdc8-4bc1-a177-b38f35044b9c",
   "metadata": {},
   "outputs": [],
   "source": [
    "pd.merge(performance_10dd, forecast_10_dd, on='Kode', how='inner').sort_values('Forecast Low Risk 10dd', ascending=False).head()"
   ]
  },
  {
   "cell_type": "code",
   "execution_count": null,
   "id": "b9d00f5a-74bc-4c8a-af98-0ac46c9b0503",
   "metadata": {},
   "outputs": [],
   "source": [
    "pd.merge(performance_15dd, forecast_15_dd, on='Kode', how='inner').sort_values('Forecast Low Risk 15dd', ascending=False).head()"
   ]
  },
  {
   "cell_type": "code",
   "execution_count": null,
   "id": "cd875445-a38a-430d-8287-a86dbeeb27c1",
   "metadata": {},
   "outputs": [],
   "source": [
    "forecast_10_dd.sort_values('Forecast Low Risk 10dd', ascending=False).head(20)"
   ]
  },
  {
   "cell_type": "code",
   "execution_count": null,
   "id": "52071a1e-b188-4767-a9de-ce38591ac4ef",
   "metadata": {},
   "outputs": [],
   "source": [
    "forecast_15_dd.sort_values('Forecast Low Risk 15dd', ascending=False).head(20)"
   ]
  },
  {
   "cell_type": "code",
   "execution_count": null,
   "id": "765a814e-2ef8-479d-a21c-86b099b17e90",
   "metadata": {},
   "outputs": [],
   "source": []
  }
 ],
 "metadata": {
  "kernelspec": {
   "display_name": "Python 3 (ipykernel)",
   "language": "python",
   "name": "python3"
  },
  "language_info": {
   "codemirror_mode": {
    "name": "ipython",
    "version": 3
   },
   "file_extension": ".py",
   "mimetype": "text/x-python",
   "name": "python",
   "nbconvert_exporter": "python",
   "pygments_lexer": "ipython3",
   "version": "3.11.2"
  }
 },
 "nbformat": 4,
 "nbformat_minor": 5
}
