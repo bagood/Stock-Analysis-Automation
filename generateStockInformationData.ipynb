{
 "cells": [
  {
   "cell_type": "code",
   "execution_count": 1,
   "id": "cf41c9f3-977b-4c6b-b33f-e4594dd2e87e",
   "metadata": {},
   "outputs": [],
   "source": [
    "import os\n",
    "import numpy as np\n",
    "import pandas as pd"
   ]
  },
  {
   "cell_type": "code",
   "execution_count": 2,
   "id": "ba1bba35-4477-4a40-9ab4-854edf217427",
   "metadata": {},
   "outputs": [],
   "source": [
    "directory_path = 'database/stocksInformation'\n",
    "entries = os.listdir(directory_path)\n",
    "all_file_path = [os.path.join(directory_path, e) for e in entries]"
   ]
  },
  {
   "cell_type": "code",
   "execution_count": 3,
   "id": "a342d84b-54e9-4e12-9bfb-d367d4dd93b4",
   "metadata": {},
   "outputs": [
    {
     "data": {
      "text/plain": [
       "['database/stocksInformation/Daftar Saham  - Transportation & Logistic - 20251029.xlsx',\n",
       " 'database/stocksInformation/technical_indicator_features.txt',\n",
       " 'database/stocksInformation/Daftar Saham  - Basic Materials - 20251029.xlsx',\n",
       " 'database/stocksInformation/stock_data_20251029.csv',\n",
       " 'database/stocksInformation/Daftar Saham  - Properties & Real Estate - 20251029.xlsx',\n",
       " 'database/stocksInformation/Daftar Saham  - Financials - 20251029.xlsx',\n",
       " 'database/stocksInformation/Daftar Saham  - Infrastructures - 20251029.xlsx',\n",
       " 'database/stocksInformation/Daftar Saham  - Consumer Cyclicals - 20251029.xlsx',\n",
       " 'database/stocksInformation/Daftar Saham  - Consumer Non-Cyclicals - 20251029.xlsx',\n",
       " 'database/stocksInformation/Daftar Saham  - Energy - 20251029.xlsx',\n",
       " 'database/stocksInformation/Daftar Saham  - Technology - 20251029.xlsx',\n",
       " 'database/stocksInformation/Daftar Saham  - Healthcare - 20251029.xlsx',\n",
       " 'database/stocksInformation/Daftar Saham  - Industrials - 20251029.xlsx',\n",
       " 'database/stocksInformation/Daftar Saham  - 20251029.xlsx']"
      ]
     },
     "execution_count": 3,
     "metadata": {},
     "output_type": "execute_result"
    }
   ],
   "source": [
    "all_file_path"
   ]
  },
  {
   "cell_type": "code",
   "execution_count": 4,
   "id": "c0fa035d-3912-4f4e-bac5-247837fa845c",
   "metadata": {},
   "outputs": [],
   "source": [
    "stock_data = pd.DataFrame()\n",
    "for file in all_file_path[:-1]:\n",
    "    try:\n",
    "        temp_stock_data = pd.read_excel(file)\n",
    "        temp_stock_data['Industry'] = file.split('-')[1].strip()\n",
    "        stock_data = pd.concat((stock_data, temp_stock_data))\n",
    "    except:\n",
    "        pass\n",
    "\n",
    "all_stock_data = pd.read_excel(all_file_path[-1])\n",
    "\n",
    "assert len(all_stock_data) == len(stock_data)\n",
    "\n",
    "stock_data.to_csv('database/stocksInformation/stock_data_20251029.csv', index=False)"
   ]
  },
  {
   "cell_type": "code",
   "execution_count": 5,
   "id": "a5258887-97fe-48ee-b622-1680173aa886",
   "metadata": {},
   "outputs": [],
   "source": [
    "resulted_data = pd.read_csv('database/stocksInformation/stock_data_20251029.csv')"
   ]
  },
  {
   "cell_type": "code",
   "execution_count": 6,
   "id": "f5e82fd7-ec1d-4450-8ee5-4b61e96184a1",
   "metadata": {},
   "outputs": [
    {
     "data": {
      "text/html": [
       "<div>\n",
       "<style scoped>\n",
       "    .dataframe tbody tr th:only-of-type {\n",
       "        vertical-align: middle;\n",
       "    }\n",
       "\n",
       "    .dataframe tbody tr th {\n",
       "        vertical-align: top;\n",
       "    }\n",
       "\n",
       "    .dataframe thead th {\n",
       "        text-align: right;\n",
       "    }\n",
       "</style>\n",
       "<table border=\"1\" class=\"dataframe\">\n",
       "  <thead>\n",
       "    <tr style=\"text-align: right;\">\n",
       "      <th></th>\n",
       "      <th>No</th>\n",
       "      <th>Kode</th>\n",
       "      <th>Nama Perusahaan</th>\n",
       "      <th>Tanggal Pencatatan</th>\n",
       "      <th>Saham</th>\n",
       "      <th>Papan Pencatatan</th>\n",
       "      <th>Industry</th>\n",
       "    </tr>\n",
       "  </thead>\n",
       "  <tbody>\n",
       "    <tr>\n",
       "      <th>0</th>\n",
       "      <td>1</td>\n",
       "      <td>AKSI</td>\n",
       "      <td>Mineral Sumberdaya Mandiri Tbk</td>\n",
       "      <td>13 Jul 2001</td>\n",
       "      <td>720.000.000</td>\n",
       "      <td>Pengembangan</td>\n",
       "      <td>Transportation &amp; Logistic</td>\n",
       "    </tr>\n",
       "    <tr>\n",
       "      <th>1</th>\n",
       "      <td>2</td>\n",
       "      <td>ASSA</td>\n",
       "      <td>Adi Sarana Armada Tbk.</td>\n",
       "      <td>12 Nov 2012</td>\n",
       "      <td>3.691.137.517</td>\n",
       "      <td>Utama</td>\n",
       "      <td>Transportation &amp; Logistic</td>\n",
       "    </tr>\n",
       "    <tr>\n",
       "      <th>2</th>\n",
       "      <td>3</td>\n",
       "      <td>BIRD</td>\n",
       "      <td>Blue Bird Tbk.</td>\n",
       "      <td>05 Nov 2014</td>\n",
       "      <td>2.502.100.000</td>\n",
       "      <td>Utama</td>\n",
       "      <td>Transportation &amp; Logistic</td>\n",
       "    </tr>\n",
       "    <tr>\n",
       "      <th>3</th>\n",
       "      <td>4</td>\n",
       "      <td>BLTA</td>\n",
       "      <td>Berlian Laju Tanker Tbk</td>\n",
       "      <td>26 Mar 1990</td>\n",
       "      <td>25.940.187.103</td>\n",
       "      <td>Pemantauan Khusus</td>\n",
       "      <td>Transportation &amp; Logistic</td>\n",
       "    </tr>\n",
       "    <tr>\n",
       "      <th>4</th>\n",
       "      <td>5</td>\n",
       "      <td>CMPP</td>\n",
       "      <td>AirAsia Indonesia Tbk.</td>\n",
       "      <td>08 Des 1994</td>\n",
       "      <td>10.685.124.441</td>\n",
       "      <td>Pemantauan Khusus</td>\n",
       "      <td>Transportation &amp; Logistic</td>\n",
       "    </tr>\n",
       "    <tr>\n",
       "      <th>...</th>\n",
       "      <td>...</td>\n",
       "      <td>...</td>\n",
       "      <td>...</td>\n",
       "      <td>...</td>\n",
       "      <td>...</td>\n",
       "      <td>...</td>\n",
       "      <td>...</td>\n",
       "    </tr>\n",
       "    <tr>\n",
       "      <th>949</th>\n",
       "      <td>61</td>\n",
       "      <td>HYGN</td>\n",
       "      <td>Ecocare Indo Pasifik Tbk.</td>\n",
       "      <td>13 Feb 2024</td>\n",
       "      <td>2.525.000.000</td>\n",
       "      <td>Pengembangan</td>\n",
       "      <td>Industrials</td>\n",
       "    </tr>\n",
       "    <tr>\n",
       "      <th>950</th>\n",
       "      <td>62</td>\n",
       "      <td>VISI</td>\n",
       "      <td>Satu Visi Putra Tbk.</td>\n",
       "      <td>27 Feb 2024</td>\n",
       "      <td>3.075.000.000</td>\n",
       "      <td>Pengembangan</td>\n",
       "      <td>Industrials</td>\n",
       "    </tr>\n",
       "    <tr>\n",
       "      <th>951</th>\n",
       "      <td>63</td>\n",
       "      <td>MHKI</td>\n",
       "      <td>Multi Hanna Kreasindo Tbk.</td>\n",
       "      <td>16 Apr 2024</td>\n",
       "      <td>3.750.000.000</td>\n",
       "      <td>Pengembangan</td>\n",
       "      <td>Industrials</td>\n",
       "    </tr>\n",
       "    <tr>\n",
       "      <th>952</th>\n",
       "      <td>64</td>\n",
       "      <td>NAIK</td>\n",
       "      <td>Adiwarna Anugerah Abadi Tbk.</td>\n",
       "      <td>13 Nov 2024</td>\n",
       "      <td>3.327.288.722</td>\n",
       "      <td>Pengembangan</td>\n",
       "      <td>Industrials</td>\n",
       "    </tr>\n",
       "    <tr>\n",
       "      <th>953</th>\n",
       "      <td>65</td>\n",
       "      <td>PIPA</td>\n",
       "      <td>Multi Makmur Lemindo Tbk.</td>\n",
       "      <td>10 Apr 2023</td>\n",
       "      <td>3.426.097.190</td>\n",
       "      <td>Pengembangan</td>\n",
       "      <td>Industrials</td>\n",
       "    </tr>\n",
       "  </tbody>\n",
       "</table>\n",
       "<p>954 rows × 7 columns</p>\n",
       "</div>"
      ],
      "text/plain": [
       "     No  Kode                 Nama Perusahaan Tanggal Pencatatan  \\\n",
       "0     1  AKSI  Mineral Sumberdaya Mandiri Tbk        13 Jul 2001   \n",
       "1     2  ASSA          Adi Sarana Armada Tbk.        12 Nov 2012   \n",
       "2     3  BIRD                  Blue Bird Tbk.        05 Nov 2014   \n",
       "3     4  BLTA         Berlian Laju Tanker Tbk        26 Mar 1990   \n",
       "4     5  CMPP          AirAsia Indonesia Tbk.        08 Des 1994   \n",
       "..   ..   ...                             ...                ...   \n",
       "949  61  HYGN       Ecocare Indo Pasifik Tbk.        13 Feb 2024   \n",
       "950  62  VISI            Satu Visi Putra Tbk.        27 Feb 2024   \n",
       "951  63  MHKI      Multi Hanna Kreasindo Tbk.        16 Apr 2024   \n",
       "952  64  NAIK    Adiwarna Anugerah Abadi Tbk.        13 Nov 2024   \n",
       "953  65  PIPA       Multi Makmur Lemindo Tbk.        10 Apr 2023   \n",
       "\n",
       "              Saham   Papan Pencatatan                   Industry  \n",
       "0       720.000.000       Pengembangan  Transportation & Logistic  \n",
       "1     3.691.137.517              Utama  Transportation & Logistic  \n",
       "2     2.502.100.000              Utama  Transportation & Logistic  \n",
       "3    25.940.187.103  Pemantauan Khusus  Transportation & Logistic  \n",
       "4    10.685.124.441  Pemantauan Khusus  Transportation & Logistic  \n",
       "..              ...                ...                        ...  \n",
       "949   2.525.000.000       Pengembangan                Industrials  \n",
       "950   3.075.000.000       Pengembangan                Industrials  \n",
       "951   3.750.000.000       Pengembangan                Industrials  \n",
       "952   3.327.288.722       Pengembangan                Industrials  \n",
       "953   3.426.097.190       Pengembangan                Industrials  \n",
       "\n",
       "[954 rows x 7 columns]"
      ]
     },
     "execution_count": 6,
     "metadata": {},
     "output_type": "execute_result"
    }
   ],
   "source": [
    "resulted_data"
   ]
  },
  {
   "cell_type": "code",
   "execution_count": 7,
   "id": "516bd8da-269c-4b81-8f8e-07920faec0c3",
   "metadata": {},
   "outputs": [
    {
     "data": {
      "text/plain": [
       "array(['Transportation & Logistic', 'Basic Materials',\n",
       "       'Properties & Real Estate', 'Financials', 'Infrastructures',\n",
       "       'Consumer Cyclicals', 'Consumer Non', 'Energy', 'Technology',\n",
       "       'Healthcare', 'Industrials'], dtype=object)"
      ]
     },
     "execution_count": 7,
     "metadata": {},
     "output_type": "execute_result"
    }
   ],
   "source": [
    "resulted_data['Industry'].unique()"
   ]
  },
  {
   "cell_type": "code",
   "execution_count": null,
   "id": "6d86d830-1c56-4aa6-b7e2-28ec15dd7866",
   "metadata": {},
   "outputs": [],
   "source": []
  }
 ],
 "metadata": {
  "kernelspec": {
   "display_name": "Python 3 (ipykernel)",
   "language": "python",
   "name": "python3"
  },
  "language_info": {
   "codemirror_mode": {
    "name": "ipython",
    "version": 3
   },
   "file_extension": ".py",
   "mimetype": "text/x-python",
   "name": "python",
   "nbconvert_exporter": "python",
   "pygments_lexer": "ipython3",
   "version": "3.11.2"
  }
 },
 "nbformat": 4,
 "nbformat_minor": 5
}
