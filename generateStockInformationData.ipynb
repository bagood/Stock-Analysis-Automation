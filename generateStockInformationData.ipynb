{
 "cells": [
  {
   "cell_type": "code",
   "execution_count": null,
   "id": "cf41c9f3-977b-4c6b-b33f-e4594dd2e87e",
   "metadata": {},
   "outputs": [],
   "source": [
    "import os\n",
    "import numpy as np\n",
    "import pandas as pd"
   ]
  },
  {
   "cell_type": "code",
   "execution_count": null,
   "id": "ba1bba35-4477-4a40-9ab4-854edf217427",
   "metadata": {},
   "outputs": [],
   "source": [
    "directory_path = 'database/stocksInformation'\n",
    "entries = os.listdir(directory_path)\n",
    "all_file_path = [os.path.join(directory_path, e) for e in entries]"
   ]
  },
  {
   "cell_type": "code",
   "execution_count": null,
   "id": "a342d84b-54e9-4e12-9bfb-d367d4dd93b4",
   "metadata": {},
   "outputs": [],
   "source": [
    "all_file_path"
   ]
  },
  {
   "cell_type": "code",
   "execution_count": null,
   "id": "c0fa035d-3912-4f4e-bac5-247837fa845c",
   "metadata": {},
   "outputs": [],
   "source": [
    "stock_data = pd.DataFrame()\n",
    "for file in all_file_path[:-1]:\n",
    "    try:\n",
    "        temp_stock_data = pd.read_excel(file)\n",
    "        temp_stock_data['Industry'] = file.split('-')[1]\n",
    "        stock_data = pd.concat((stock_data, temp_stock_data))\n",
    "    except:\n",
    "        pass\n",
    "\n",
    "all_stock_data = pd.read_excel(all_file_path[-1])\n",
    "\n",
    "assert len(all_stock_data) == len(stock_data)\n",
    "\n",
    "stock_data.to_csv('database/stocksInformation/stock_data_20251029.csv', index=False)"
   ]
  },
  {
   "cell_type": "code",
   "execution_count": null,
   "id": "a5258887-97fe-48ee-b622-1680173aa886",
   "metadata": {},
   "outputs": [],
   "source": [
    "resulted_data = pd.read_csv('database/stocksInformation/stock_data_20251029.csv')"
   ]
  },
  {
   "cell_type": "code",
   "execution_count": null,
   "id": "f5e82fd7-ec1d-4450-8ee5-4b61e96184a1",
   "metadata": {},
   "outputs": [],
   "source": [
    "resulted_data"
   ]
  }
 ],
 "metadata": {
  "kernelspec": {
   "display_name": "Python 3 (ipykernel)",
   "language": "python",
   "name": "python3"
  },
  "language_info": {
   "codemirror_mode": {
    "name": "ipython",
    "version": 3
   },
   "file_extension": ".py",
   "mimetype": "text/x-python",
   "name": "python",
   "nbconvert_exporter": "python",
   "pygments_lexer": "ipython3",
   "version": "3.11.2"
  }
 },
 "nbformat": 4,
 "nbformat_minor": 5
}
